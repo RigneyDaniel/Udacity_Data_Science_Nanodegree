{
 "cells": [
  {
   "cell_type": "markdown",
   "metadata": {
    "_uuid": "853ad5bb52c4fbef3721ce60d074a466a7a15026"
   },
   "source": [
    "**This is an analysis of a dataset of investments made in Indian start-up companies found on Kaggle.\n",
    "Data can be found here: https://www.kaggle.com/sudalairajkumar/indian-startup-funding**"
   ]
  },
  {
   "cell_type": "code",
   "execution_count": 117,
   "metadata": {},
   "outputs": [],
   "source": [
    "# This analysis uses the Python 3 environment and the folowing libraries\n",
    "\n",
    "import numpy as np # linear algebra\n",
    "import pandas as pd # data processing, CSV file I/O (e.g. pd.read_csv)\n",
    "import matplotlib.pyplot as plt # visualisation\n",
    "import seaborn as sns # visualisation\n",
    "\n",
    "%matplotlib inline"
   ]
  },
  {
   "cell_type": "markdown",
   "metadata": {},
   "source": [
    "**1. Gather - Understand the business**\n",
    "We aim to answer the following questions:  \n",
    "(a) Who are the most active investors and how significant are they?  \n",
    "(b) What industries are the most heavily invested in?  \n",
    "(c) Do active investors concentrate in certain industries and is there a correlation between investors?  "
   ]
  },
  {
   "cell_type": "markdown",
   "metadata": {},
   "source": [
    "**2. Assess - Understand the data.**"
   ]
  },
  {
   "cell_type": "code",
   "execution_count": 118,
   "metadata": {},
   "outputs": [],
   "source": [
    "# Import data\n",
    "df = pd.read_csv('/Users/danielrigney/github/udacity_data_science_nanodegree/data_science_blog_post/startup_funding.csv')"
   ]
  },
  {
   "cell_type": "code",
   "execution_count": 119,
   "metadata": {},
   "outputs": [
    {
     "data": {
      "text/html": [
       "<div>\n",
       "<style scoped>\n",
       "    .dataframe tbody tr th:only-of-type {\n",
       "        vertical-align: middle;\n",
       "    }\n",
       "\n",
       "    .dataframe tbody tr th {\n",
       "        vertical-align: top;\n",
       "    }\n",
       "\n",
       "    .dataframe thead th {\n",
       "        text-align: right;\n",
       "    }\n",
       "</style>\n",
       "<table border=\"1\" class=\"dataframe\">\n",
       "  <thead>\n",
       "    <tr style=\"text-align: right;\">\n",
       "      <th></th>\n",
       "      <th>SNo</th>\n",
       "      <th>Date</th>\n",
       "      <th>StartupName</th>\n",
       "      <th>IndustryVertical</th>\n",
       "      <th>SubVertical</th>\n",
       "      <th>CityLocation</th>\n",
       "      <th>InvestorsName</th>\n",
       "      <th>InvestmentType</th>\n",
       "      <th>AmountInUSD</th>\n",
       "      <th>Remarks</th>\n",
       "    </tr>\n",
       "  </thead>\n",
       "  <tbody>\n",
       "    <tr>\n",
       "      <th>0</th>\n",
       "      <td>0</td>\n",
       "      <td>01/08/2017</td>\n",
       "      <td>TouchKin</td>\n",
       "      <td>Technology</td>\n",
       "      <td>Predictive Care Platform</td>\n",
       "      <td>Bangalore</td>\n",
       "      <td>Kae Capital</td>\n",
       "      <td>Private Equity</td>\n",
       "      <td>1,300,000</td>\n",
       "      <td>NaN</td>\n",
       "    </tr>\n",
       "    <tr>\n",
       "      <th>1</th>\n",
       "      <td>1</td>\n",
       "      <td>02/08/2017</td>\n",
       "      <td>Ethinos</td>\n",
       "      <td>Technology</td>\n",
       "      <td>Digital Marketing Agency</td>\n",
       "      <td>Mumbai</td>\n",
       "      <td>Triton Investment Advisors</td>\n",
       "      <td>Private Equity</td>\n",
       "      <td>NaN</td>\n",
       "      <td>NaN</td>\n",
       "    </tr>\n",
       "    <tr>\n",
       "      <th>2</th>\n",
       "      <td>2</td>\n",
       "      <td>02/08/2017</td>\n",
       "      <td>Leverage Edu</td>\n",
       "      <td>Consumer Internet</td>\n",
       "      <td>Online platform for Higher Education Services</td>\n",
       "      <td>New Delhi</td>\n",
       "      <td>Kashyap Deorah, Anand Sankeshwar, Deepak Jain,...</td>\n",
       "      <td>Seed Funding</td>\n",
       "      <td>NaN</td>\n",
       "      <td>NaN</td>\n",
       "    </tr>\n",
       "    <tr>\n",
       "      <th>3</th>\n",
       "      <td>3</td>\n",
       "      <td>02/08/2017</td>\n",
       "      <td>Zepo</td>\n",
       "      <td>Consumer Internet</td>\n",
       "      <td>DIY Ecommerce platform</td>\n",
       "      <td>Mumbai</td>\n",
       "      <td>Kunal Shah, LetsVenture, Anupam Mittal, Hetal ...</td>\n",
       "      <td>Seed Funding</td>\n",
       "      <td>500,000</td>\n",
       "      <td>NaN</td>\n",
       "    </tr>\n",
       "    <tr>\n",
       "      <th>4</th>\n",
       "      <td>4</td>\n",
       "      <td>02/08/2017</td>\n",
       "      <td>Click2Clinic</td>\n",
       "      <td>Consumer Internet</td>\n",
       "      <td>healthcare service aggregator</td>\n",
       "      <td>Hyderabad</td>\n",
       "      <td>Narottam Thudi, Shireesh Palle</td>\n",
       "      <td>Seed Funding</td>\n",
       "      <td>850,000</td>\n",
       "      <td>NaN</td>\n",
       "    </tr>\n",
       "  </tbody>\n",
       "</table>\n",
       "</div>"
      ],
      "text/plain": [
       "   SNo        Date   StartupName   IndustryVertical  \\\n",
       "0    0  01/08/2017      TouchKin         Technology   \n",
       "1    1  02/08/2017       Ethinos         Technology   \n",
       "2    2  02/08/2017  Leverage Edu  Consumer Internet   \n",
       "3    3  02/08/2017          Zepo  Consumer Internet   \n",
       "4    4  02/08/2017  Click2Clinic  Consumer Internet   \n",
       "\n",
       "                                     SubVertical CityLocation  \\\n",
       "0                       Predictive Care Platform    Bangalore   \n",
       "1                       Digital Marketing Agency       Mumbai   \n",
       "2  Online platform for Higher Education Services    New Delhi   \n",
       "3                         DIY Ecommerce platform       Mumbai   \n",
       "4                  healthcare service aggregator    Hyderabad   \n",
       "\n",
       "                                       InvestorsName  InvestmentType  \\\n",
       "0                                        Kae Capital  Private Equity   \n",
       "1                         Triton Investment Advisors  Private Equity   \n",
       "2  Kashyap Deorah, Anand Sankeshwar, Deepak Jain,...    Seed Funding   \n",
       "3  Kunal Shah, LetsVenture, Anupam Mittal, Hetal ...    Seed Funding   \n",
       "4                     Narottam Thudi, Shireesh Palle    Seed Funding   \n",
       "\n",
       "  AmountInUSD Remarks  \n",
       "0   1,300,000     NaN  \n",
       "1         NaN     NaN  \n",
       "2         NaN     NaN  \n",
       "3     500,000     NaN  \n",
       "4     850,000     NaN  "
      ]
     },
     "execution_count": 119,
     "metadata": {},
     "output_type": "execute_result"
    }
   ],
   "source": [
    "df.head()"
   ]
  },
  {
   "cell_type": "markdown",
   "metadata": {},
   "source": [
    "**Important data points in this data set include**\n",
    "1. Name of the start-up company that received investment.\n",
    "2. Date of investment.\n",
    "3. Industry and sub industry verticals.\n",
    "4. Start-ups location.\n",
    "5. The name of the investors.\n",
    "6. Level of investment e.g. private equity, seed etc.\n",
    "7. Investment amount."
   ]
  },
  {
   "cell_type": "code",
   "execution_count": 120,
   "metadata": {},
   "outputs": [
    {
     "data": {
      "text/html": [
       "<div>\n",
       "<style scoped>\n",
       "    .dataframe tbody tr th:only-of-type {\n",
       "        vertical-align: middle;\n",
       "    }\n",
       "\n",
       "    .dataframe tbody tr th {\n",
       "        vertical-align: top;\n",
       "    }\n",
       "\n",
       "    .dataframe thead th {\n",
       "        text-align: right;\n",
       "    }\n",
       "</style>\n",
       "<table border=\"1\" class=\"dataframe\">\n",
       "  <thead>\n",
       "    <tr style=\"text-align: right;\">\n",
       "      <th></th>\n",
       "      <th>SNo</th>\n",
       "    </tr>\n",
       "  </thead>\n",
       "  <tbody>\n",
       "    <tr>\n",
       "      <th>count</th>\n",
       "      <td>2372.000000</td>\n",
       "    </tr>\n",
       "    <tr>\n",
       "      <th>mean</th>\n",
       "      <td>1185.500000</td>\n",
       "    </tr>\n",
       "    <tr>\n",
       "      <th>std</th>\n",
       "      <td>684.881742</td>\n",
       "    </tr>\n",
       "    <tr>\n",
       "      <th>min</th>\n",
       "      <td>0.000000</td>\n",
       "    </tr>\n",
       "    <tr>\n",
       "      <th>25%</th>\n",
       "      <td>592.750000</td>\n",
       "    </tr>\n",
       "    <tr>\n",
       "      <th>50%</th>\n",
       "      <td>1185.500000</td>\n",
       "    </tr>\n",
       "    <tr>\n",
       "      <th>75%</th>\n",
       "      <td>1778.250000</td>\n",
       "    </tr>\n",
       "    <tr>\n",
       "      <th>max</th>\n",
       "      <td>2371.000000</td>\n",
       "    </tr>\n",
       "  </tbody>\n",
       "</table>\n",
       "</div>"
      ],
      "text/plain": [
       "               SNo\n",
       "count  2372.000000\n",
       "mean   1185.500000\n",
       "std     684.881742\n",
       "min       0.000000\n",
       "25%     592.750000\n",
       "50%    1185.500000\n",
       "75%    1778.250000\n",
       "max    2371.000000"
      ]
     },
     "execution_count": 120,
     "metadata": {},
     "output_type": "execute_result"
    }
   ],
   "source": [
    "df.describe()"
   ]
  },
  {
   "cell_type": "markdown",
   "metadata": {},
   "source": [
    "There are 2372 investments made in this sample."
   ]
  },
  {
   "cell_type": "markdown",
   "metadata": {},
   "source": [
    "**3. Clean Data - Preparation of the data.**"
   ]
  },
  {
   "cell_type": "code",
   "execution_count": 121,
   "metadata": {},
   "outputs": [
    {
     "data": {
      "text/plain": [
       "SNo                 0.000000\n",
       "Date                0.000000\n",
       "StartupName         0.000000\n",
       "IndustryVertical    0.072091\n",
       "SubVertical         0.394604\n",
       "CityLocation        0.075464\n",
       "InvestorsName       0.003373\n",
       "InvestmentType      0.000422\n",
       "AmountInUSD         0.357083\n",
       "Remarks             0.823356\n",
       "dtype: float64"
      ]
     },
     "execution_count": 121,
     "metadata": {},
     "output_type": "execute_result"
    }
   ],
   "source": [
    "df.isnull().sum() / df.shape[0]"
   ]
  },
  {
   "cell_type": "code",
   "execution_count": 122,
   "metadata": {},
   "outputs": [],
   "source": [
    "# Drop Remarks column as it has too many missing values.\n",
    "# the subvertical may also be difficult to work with as ~39%.\n",
    "# also the AmountInUSD is miss more than a third. Since this \n",
    "# is an important columns we will want to keep it.\n",
    "df.drop(columns=['Remarks'], axis=1, inplace=True)"
   ]
  },
  {
   "cell_type": "code",
   "execution_count": 123,
   "metadata": {},
   "outputs": [],
   "source": [
    "# Clean up investment amount.\n",
    "df['AmountInUSD'].replace(to_replace=',', value='', regex=True, inplace=True)\n",
    "df['AmountInUSD'].fillna(0, inplace=True)\n",
    "df['AmountInUSD'] = df['AmountInUSD'].astype(int)"
   ]
  },
  {
   "cell_type": "code",
   "execution_count": 124,
   "metadata": {},
   "outputs": [],
   "source": [
    "# Need to remove .com and .in from names in case of duplicates.\n",
    "df['StartupName'].replace(to_replace=['.in', '.com', '.co'], value='', regex=True, inplace=True)"
   ]
  },
  {
   "cell_type": "code",
   "execution_count": 125,
   "metadata": {},
   "outputs": [],
   "source": [
    "# Remove rows where the Investor is unidentified.\n",
    "df = df[~df['InvestorsName'].isin(['Undisclosed HNIs', 'undisclosed investors', 'Undisclosed Investor', 'Undisclosed investor', 'Undisclosed', 'Undisclosed investors', 'Undisclosed Investors', 'Undisclosed investors'])]"
   ]
  },
  {
   "cell_type": "code",
   "execution_count": 126,
   "metadata": {},
   "outputs": [
    {
     "data": {
      "text/plain": [
       "4.3844856661045535"
      ]
     },
     "execution_count": 126,
     "metadata": {},
     "output_type": "execute_result"
    }
   ],
   "source": [
    "# Percentage of investments with unidentified investors.\n",
    "(2372 - df.shape[0]) / 2372 * 100"
   ]
  },
  {
   "cell_type": "code",
   "execution_count": 127,
   "metadata": {},
   "outputs": [
    {
     "data": {
      "text/plain": [
       "1878"
      ]
     },
     "execution_count": 127,
     "metadata": {},
     "output_type": "execute_result"
    }
   ],
   "source": [
    "# Number of unique investors or investment groups.\n",
    "df['InvestorsName'].nunique()"
   ]
  },
  {
   "cell_type": "markdown",
   "metadata": {},
   "source": [
    "**4. Analyse**"
   ]
  },
  {
   "cell_type": "markdown",
   "metadata": {},
   "source": [
    "**(a) Who are the most active investors and how significant are they?**"
   ]
  },
  {
   "cell_type": "code",
   "execution_count": 128,
   "metadata": {},
   "outputs": [
    {
     "name": "stdout",
     "output_type": "stream",
     "text": [
      "The most active investors made on average 9.95 investments, with the most active making 5.0 investments and least active making 24.0 investments\n"
     ]
    }
   ],
   "source": [
    "# Analyse investments per investor and the range of investment sizes.\n",
    "count_by_investor = df.groupby(['InvestorsName']).size().reset_index(name='NumberInvestmentsPerInvestor').sort_values(by='NumberInvestmentsPerInvestor', ascending=False)\n",
    "\n",
    "# Select the top 20 most active investors to investigate further.\n",
    "count_by_investor = count_by_investor[0:20]\n",
    "\n",
    "most_active_investors = count_by_investor['InvestorsName'].tolist()\n",
    "number_investments_investor = count_by_investor['NumberInvestmentsPerInvestor'].tolist()\n",
    "\n",
    "cbi = count_by_investor.describe().reset_index()\n",
    "avg = cbi[cbi['index']=='mean']['NumberInvestmentsPerInvestor'].values[0]\n",
    "minimum = cbi[cbi['index']=='min']['NumberInvestmentsPerInvestor'].values[0]\n",
    "maximum = cbi[cbi['index']=='max']['NumberInvestmentsPerInvestor'].values[0]\n",
    "\n",
    "print('The most active investors made on average {} investments, with the most active making {} investments and least active making {} investments'.format(avg, minimum, maximum))"
   ]
  },
  {
   "cell_type": "code",
   "execution_count": 129,
   "metadata": {},
   "outputs": [
    {
     "name": "stdout",
     "output_type": "stream",
     "text": [
      "The total number of investments made by the 20 most active investors is {}.\n"
     ]
    }
   ],
   "source": [
    "# Number of investments made by the 20 most active investors.\n",
    "total = count_by_investor['NumberInvestmentsPerInvestor'].sum()\n",
    "print('The total number of investments made by the 20 most active investors is {}.'.format({}))"
   ]
  },
  {
   "cell_type": "code",
   "execution_count": 130,
   "metadata": {},
   "outputs": [
    {
     "name": "stdout",
     "output_type": "stream",
     "text": [
      "The average number of investments by type 323.85714285714283. The most invested type had 1.0 investments and least had 1179.0 investments\n"
     ]
    }
   ],
   "source": [
    "# Analyse the number of investments per investment type.\n",
    "count_by_investment_type = df.groupby(['InvestmentType']).size().reset_index(name='NumberPerInvestmentType').sort_values(by='NumberPerInvestmentType', ascending=False)\n",
    "\n",
    "investment_type = count_by_investment_type['InvestmentType'].tolist()\n",
    "number_investments_type = count_by_investment_type['NumberPerInvestmentType'].tolist()\n",
    "\n",
    "cbit = count_by_investment_type.describe().reset_index()\n",
    "avg = cbit[cbit['index']=='mean']['NumberPerInvestmentType'].values[0]\n",
    "minimum = cbit[cbit['index']=='min']['NumberPerInvestmentType'].values[0]\n",
    "maximum = cbit[cbit['index']=='max']['NumberPerInvestmentType'].values[0]\n",
    "\n",
    "print('The average number of investments by type {}. The most invested type had {} investments and least had {} investments'.format(avg, minimum, maximum))"
   ]
  },
  {
   "cell_type": "markdown",
   "metadata": {},
   "source": [
    "**(b) What industries are the most heavily invested in?**"
   ]
  },
  {
   "cell_type": "code",
   "execution_count": 131,
   "metadata": {},
   "outputs": [
    {
     "data": {
      "text/html": [
       "<div>\n",
       "<style scoped>\n",
       "    .dataframe tbody tr th:only-of-type {\n",
       "        vertical-align: middle;\n",
       "    }\n",
       "\n",
       "    .dataframe tbody tr th {\n",
       "        vertical-align: top;\n",
       "    }\n",
       "\n",
       "    .dataframe thead th {\n",
       "        text-align: right;\n",
       "    }\n",
       "</style>\n",
       "<table border=\"1\" class=\"dataframe\">\n",
       "  <thead>\n",
       "    <tr style=\"text-align: right;\">\n",
       "      <th></th>\n",
       "      <th>IndustryVertical</th>\n",
       "      <th>NumberInvestmentsPerIndustry</th>\n",
       "    </tr>\n",
       "  </thead>\n",
       "  <tbody>\n",
       "    <tr>\n",
       "      <th>93</th>\n",
       "      <td>Consumer Internet</td>\n",
       "      <td>722</td>\n",
       "    </tr>\n",
       "    <tr>\n",
       "      <th>645</th>\n",
       "      <td>Technology</td>\n",
       "      <td>301</td>\n",
       "    </tr>\n",
       "    <tr>\n",
       "      <th>694</th>\n",
       "      <td>eCommerce</td>\n",
       "      <td>162</td>\n",
       "    </tr>\n",
       "    <tr>\n",
       "      <th>145</th>\n",
       "      <td>ECommerce</td>\n",
       "      <td>50</td>\n",
       "    </tr>\n",
       "    <tr>\n",
       "      <th>239</th>\n",
       "      <td>Healthcare</td>\n",
       "      <td>29</td>\n",
       "    </tr>\n",
       "  </tbody>\n",
       "</table>\n",
       "</div>"
      ],
      "text/plain": [
       "      IndustryVertical  NumberInvestmentsPerIndustry\n",
       "93   Consumer Internet                           722\n",
       "645         Technology                           301\n",
       "694          eCommerce                           162\n",
       "145          ECommerce                            50\n",
       "239         Healthcare                            29"
      ]
     },
     "execution_count": 131,
     "metadata": {},
     "output_type": "execute_result"
    }
   ],
   "source": [
    "count_by_industry = df.groupby(['IndustryVertical']).size().reset_index(name='NumberInvestmentsPerIndustry').sort_values(by='NumberInvestmentsPerIndustry', ascending=False)\n",
    "count_by_industry.head()"
   ]
  },
  {
   "cell_type": "code",
   "execution_count": 132,
   "metadata": {},
   "outputs": [
    {
     "data": {
      "text/plain": [
       "726"
      ]
     },
     "execution_count": 132,
     "metadata": {},
     "output_type": "execute_result"
    }
   ],
   "source": [
    "# Number of unique industries.\n",
    "count_by_industry.shape[0]"
   ]
  },
  {
   "cell_type": "code",
   "execution_count": 133,
   "metadata": {},
   "outputs": [
    {
     "data": {
      "text/html": [
       "<div>\n",
       "<style scoped>\n",
       "    .dataframe tbody tr th:only-of-type {\n",
       "        vertical-align: middle;\n",
       "    }\n",
       "\n",
       "    .dataframe tbody tr th {\n",
       "        vertical-align: top;\n",
       "    }\n",
       "\n",
       "    .dataframe thead th {\n",
       "        text-align: right;\n",
       "    }\n",
       "</style>\n",
       "<table border=\"1\" class=\"dataframe\">\n",
       "  <thead>\n",
       "    <tr style=\"text-align: right;\">\n",
       "      <th></th>\n",
       "      <th>NumberInvestmentsPerIndustry</th>\n",
       "    </tr>\n",
       "  </thead>\n",
       "  <tbody>\n",
       "    <tr>\n",
       "      <th>count</th>\n",
       "      <td>10.000000</td>\n",
       "    </tr>\n",
       "    <tr>\n",
       "      <th>mean</th>\n",
       "      <td>133.900000</td>\n",
       "    </tr>\n",
       "    <tr>\n",
       "      <th>std</th>\n",
       "      <td>226.945148</td>\n",
       "    </tr>\n",
       "    <tr>\n",
       "      <th>min</th>\n",
       "      <td>5.000000</td>\n",
       "    </tr>\n",
       "    <tr>\n",
       "      <th>25%</th>\n",
       "      <td>18.500000</td>\n",
       "    </tr>\n",
       "    <tr>\n",
       "      <th>50%</th>\n",
       "      <td>26.000000</td>\n",
       "    </tr>\n",
       "    <tr>\n",
       "      <th>75%</th>\n",
       "      <td>134.000000</td>\n",
       "    </tr>\n",
       "    <tr>\n",
       "      <th>max</th>\n",
       "      <td>722.000000</td>\n",
       "    </tr>\n",
       "  </tbody>\n",
       "</table>\n",
       "</div>"
      ],
      "text/plain": [
       "       NumberInvestmentsPerIndustry\n",
       "count                     10.000000\n",
       "mean                     133.900000\n",
       "std                      226.945148\n",
       "min                        5.000000\n",
       "25%                       18.500000\n",
       "50%                       26.000000\n",
       "75%                      134.000000\n",
       "max                      722.000000"
      ]
     },
     "execution_count": 133,
     "metadata": {},
     "output_type": "execute_result"
    }
   ],
   "source": [
    "# Analyse the number of investment by industry.\n",
    "\n",
    "# Select the top 10 most active industries to investigate further.\n",
    "count_by_industry = count_by_industry[0:10]\n",
    "\n",
    "most_active_industry = count_by_industry['IndustryVertical'].tolist()\n",
    "number_investments_industry = count_by_industry['NumberInvestmentsPerIndustry'].tolist()\n",
    "\n",
    "count_by_industry.describe()"
   ]
  },
  {
   "cell_type": "markdown",
   "metadata": {},
   "source": [
    "**(c) Do active investors concentrate in certain industries and is there a correlation between investors?**"
   ]
  },
  {
   "cell_type": "code",
   "execution_count": 134,
   "metadata": {},
   "outputs": [
    {
     "data": {
      "text/html": [
       "<div>\n",
       "<style scoped>\n",
       "    .dataframe tbody tr th:only-of-type {\n",
       "        vertical-align: middle;\n",
       "    }\n",
       "\n",
       "    .dataframe tbody tr th {\n",
       "        vertical-align: top;\n",
       "    }\n",
       "\n",
       "    .dataframe thead th {\n",
       "        text-align: right;\n",
       "    }\n",
       "</style>\n",
       "<table border=\"1\" class=\"dataframe\">\n",
       "  <thead>\n",
       "    <tr style=\"text-align: right;\">\n",
       "      <th></th>\n",
       "      <th>SNo</th>\n",
       "      <th>Date</th>\n",
       "      <th>StartupName</th>\n",
       "      <th>IndustryVertical</th>\n",
       "      <th>SubVertical</th>\n",
       "      <th>CityLocation</th>\n",
       "      <th>InvestorsName</th>\n",
       "      <th>InvestmentType</th>\n",
       "      <th>AmountInUSD</th>\n",
       "    </tr>\n",
       "  </thead>\n",
       "  <tbody>\n",
       "    <tr>\n",
       "      <th>22</th>\n",
       "      <td>22</td>\n",
       "      <td>12/07/2017</td>\n",
       "      <td>Arcatron</td>\n",
       "      <td>Technology</td>\n",
       "      <td>Next Gen Mobility device manufacturer</td>\n",
       "      <td>Pune</td>\n",
       "      <td>Indian Angel Network</td>\n",
       "      <td>Seed Funding</td>\n",
       "      <td>0</td>\n",
       "    </tr>\n",
       "    <tr>\n",
       "      <th>46</th>\n",
       "      <td>46</td>\n",
       "      <td>28/07/2017</td>\n",
       "      <td>BigStylist</td>\n",
       "      <td>Consumer Internet</td>\n",
       "      <td>Beauty Services Marketplace</td>\n",
       "      <td>Mumbai</td>\n",
       "      <td>Info Edge (India) Ltd</td>\n",
       "      <td>Private Equity</td>\n",
       "      <td>1250000</td>\n",
       "    </tr>\n",
       "    <tr>\n",
       "      <th>47</th>\n",
       "      <td>47</td>\n",
       "      <td>28/07/2017</td>\n",
       "      <td>Gympik</td>\n",
       "      <td>Consumer Internet</td>\n",
       "      <td>online marketplace for discovering fitness cen...</td>\n",
       "      <td>bangalore</td>\n",
       "      <td>RoundGlass Partners</td>\n",
       "      <td>Seed Funding</td>\n",
       "      <td>0</td>\n",
       "    </tr>\n",
       "    <tr>\n",
       "      <th>55</th>\n",
       "      <td>55</td>\n",
       "      <td>06/06/2017</td>\n",
       "      <td>BHIVE Workspace</td>\n",
       "      <td>Consumer Internet</td>\n",
       "      <td>co-working spaces</td>\n",
       "      <td>Bangalore</td>\n",
       "      <td>Blume Ventures</td>\n",
       "      <td>Private Equity</td>\n",
       "      <td>1200000</td>\n",
       "    </tr>\n",
       "    <tr>\n",
       "      <th>84</th>\n",
       "      <td>84</td>\n",
       "      <td>16/06/2017</td>\n",
       "      <td>Eazyer</td>\n",
       "      <td>Consumer Internet</td>\n",
       "      <td>Online Restaurant Reservation Platform</td>\n",
       "      <td>Gurgaon</td>\n",
       "      <td>YouWeCan Ventures</td>\n",
       "      <td>Seed Funding</td>\n",
       "      <td>0</td>\n",
       "    </tr>\n",
       "  </tbody>\n",
       "</table>\n",
       "</div>"
      ],
      "text/plain": [
       "    SNo        Date      StartupName   IndustryVertical  \\\n",
       "22   22  12/07/2017         Arcatron         Technology   \n",
       "46   46  28/07/2017       BigStylist  Consumer Internet   \n",
       "47   47  28/07/2017           Gympik  Consumer Internet   \n",
       "55   55  06/06/2017  BHIVE Workspace  Consumer Internet   \n",
       "84   84  16/06/2017           Eazyer  Consumer Internet   \n",
       "\n",
       "                                          SubVertical CityLocation  \\\n",
       "22              Next Gen Mobility device manufacturer         Pune   \n",
       "46                        Beauty Services Marketplace       Mumbai   \n",
       "47  online marketplace for discovering fitness cen...    bangalore   \n",
       "55                                  co-working spaces    Bangalore   \n",
       "84             Online Restaurant Reservation Platform      Gurgaon   \n",
       "\n",
       "            InvestorsName  InvestmentType  AmountInUSD  \n",
       "22   Indian Angel Network    Seed Funding            0  \n",
       "46  Info Edge (India) Ltd  Private Equity      1250000  \n",
       "47    RoundGlass Partners    Seed Funding            0  \n",
       "55         Blume Ventures  Private Equity      1200000  \n",
       "84      YouWeCan Ventures    Seed Funding            0  "
      ]
     },
     "execution_count": 134,
     "metadata": {},
     "output_type": "execute_result"
    }
   ],
   "source": [
    "active_df = df[df['InvestorsName'].isin(most_active_investors) & df['IndustryVertical'].isin(most_active_industry)]\n",
    "active_df.head()"
   ]
  },
  {
   "cell_type": "code",
   "execution_count": 135,
   "metadata": {},
   "outputs": [],
   "source": [
    "# Strip down the dataset to the most active investors and industries so we can visualise any trends.\n",
    "count_by_investor_and_industry = active_df.groupby(['IndustryVertical', 'InvestorsName']).size().reset_index(name='NumberInvestmentsPerIndustry').sort_values(by='NumberInvestmentsPerIndustry', ascending=False)"
   ]
  },
  {
   "cell_type": "code",
   "execution_count": 136,
   "metadata": {},
   "outputs": [
    {
     "data": {
      "text/plain": [
       "18"
      ]
     },
     "execution_count": 136,
     "metadata": {},
     "output_type": "execute_result"
    }
   ],
   "source": [
    "# Number of active investors remaining in the smaller data set.\n",
    "count_by_investor_and_industry['InvestorsName'].nunique()"
   ]
  },
  {
   "cell_type": "code",
   "execution_count": 137,
   "metadata": {},
   "outputs": [
    {
     "data": {
      "text/plain": [
       "7"
      ]
     },
     "execution_count": 137,
     "metadata": {},
     "output_type": "execute_result"
    }
   ],
   "source": [
    "# Number of industries remaining in the smaller data set.\n",
    "count_by_investor_and_industry['IndustryVertical'].nunique()"
   ]
  },
  {
   "cell_type": "markdown",
   "metadata": {},
   "source": [
    "**5. Model**\n",
    "This analysis does not require any machine learning or deep learning models as the analysis above and the visualisation below can answer our business questions."
   ]
  },
  {
   "cell_type": "markdown",
   "metadata": {},
   "source": [
    "**6. Visualise**"
   ]
  },
  {
   "cell_type": "code",
   "execution_count": 138,
   "metadata": {},
   "outputs": [],
   "source": [
    "def plot_bar_chart(categories_label, count, y_label, x_label, title):\n",
    "    \n",
    "    categories_pos = [i for i, _ in enumerate(categories_label)]\n",
    "    \n",
    "    plt.barh(categories_pos, count)\n",
    "\n",
    "    plt.ylabel(y_label)\n",
    "    plt.xlabel(x_label)\n",
    "    plt.title(title)\n",
    "\n",
    "    plt.yticks(categories_pos, categories_label)\n",
    "\n",
    "    plt.show()"
   ]
  },
  {
   "cell_type": "code",
   "execution_count": 139,
   "metadata": {},
   "outputs": [],
   "source": [
    "def plot_scatter_chart(x, y, z, x_label, y_label, title):\n",
    "\n",
    "    plt.scatter(x, y, s=z*z*10, alpha=0.4, edgecolors=\"grey\", linewidth=2)\n",
    "\n",
    "    plt.xlabel(x_label)\n",
    "    plt.ylabel(y_label)\n",
    "    plt.title(title)\n",
    "\n",
    "    plt.xticks(rotation=45)\n",
    "\n",
    "    plt.show()    "
   ]
  },
  {
   "cell_type": "code",
   "execution_count": 140,
   "metadata": {},
   "outputs": [
    {
     "data": {
      "image/png": "[encoded data removed]",
      "text/plain": [
       "<Figure size 432x288 with 1 Axes>"
      ]
     },
     "metadata": {
      "needs_background": "light"
     },
     "output_type": "display_data"
    }
   ],
   "source": [
    "# Plot the number investments per investor.\n",
    "plot_bar_chart(most_active_investors, number_investments_investor, \"Investor\", \"Number of Investments\", \"20 Most Active Start-up Investors\")"
   ]
  },
  {
   "cell_type": "code",
   "execution_count": 141,
   "metadata": {},
   "outputs": [
    {
     "data": {
      "image/png": "[encoded data removed]",
      "text/plain": [
       "<Figure size 432x288 with 1 Axes>"
      ]
     },
     "metadata": {
      "needs_background": "light"
     },
     "output_type": "display_data"
    }
   ],
   "source": [
    "# Plot the number of investments per investment type and range of values.\n",
    "plot_bar_chart(investment_type, number_investments_type, \"Investment Type\", \"Number of Investments\", \"Number of Investments by Investment Type\")"
   ]
  },
  {
   "cell_type": "code",
   "execution_count": 142,
   "metadata": {},
   "outputs": [
    {
     "data": {
      "image/png": "[encoded data removed]",
      "text/plain": [
       "<Figure size 432x288 with 1 Axes>"
      ]
     },
     "metadata": {
      "needs_background": "light"
     },
     "output_type": "display_data"
    }
   ],
   "source": [
    "# Plot the number of investment by industry.\n",
    "plot_bar_chart(most_active_industry, number_investments, \"Industry Vertical\", \"Number of Investments\", \"10 Most Active Start-up IndustryVerticals\")"
   ]
  },
  {
   "cell_type": "code",
   "execution_count": 143,
   "metadata": {},
   "outputs": [
    {
     "data": {
      "image/png": "[encoded data removed]",
      "text/plain": [
       "<Figure size 432x288 with 1 Axes>"
      ]
     },
     "metadata": {
      "needs_background": "light"
     },
     "output_type": "display_data"
    }
   ],
   "source": [
    "# Do active investors concentrate in certain industries and is there a correlation between investors?\n",
    "industry = count_by_investor_and_industry['IndustryVertical']\n",
    "investor = count_by_investor_and_industry['InvestorsName']\n",
    "investment_count = count_by_investor_and_industry['NumberInvestmentsPerIndustry']\n",
    "\n",
    "plot_scatter_chart(industry, investor, investment_count, \"Industry\", \"Investor\", \"Concentration of investment across industries by active investors\")"
   ]
  },
  {
   "cell_type": "code",
   "execution_count": null,
   "metadata": {},
   "outputs": [],
   "source": []
  }
 ],
 "metadata": {
  "kernelspec": {
   "display_name": "Python 3",
   "language": "python",
   "name": "python3"
  },
  "language_info": {
   "codemirror_mode": {
    "name": "ipython",
    "version": 3
   },
   "file_extension": ".py",
   "mimetype": "text/x-python",
   "name": "python",
   "nbconvert_exporter": "python",
   "pygments_lexer": "ipython3",
   "version": "3.7.1"
  }
 },
 "nbformat": 4,
 "nbformat_minor": 1
}
