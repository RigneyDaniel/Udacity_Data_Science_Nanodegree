{
 "cells": [
  {
   "cell_type": "code",
   "execution_count": null,
   "metadata": {
    "_cell_guid": "b1076dfc-b9ad-4769-8c92-a6c4dae69d19",
    "_uuid": "8f2839f25d086af736a60e9eeb907d3b93b6e0e5"
   },
   "outputs": [],
   "source": [
    "# This Python 3 environment comes with many helpful analytics libraries installed\n",
    "# It is defined by the kaggle/python docker image: https://github.com/kaggle/docker-python\n",
    "# For example, here's several helpful packages to load in \n",
    "\n",
    "import numpy as np # linear algebra\n",
    "import pandas as pd # data processing, CSV file I/O (e.g. pd.read_csv)\n",
    "\n",
    "# Input data files are available in the \"../input/\" directory.\n",
    "# For example, running this (by clicking run or pressing Shift+Enter) will list the files in the input directory\n",
    "\n",
    "import os\n",
    "print(os.listdir(\"../input\"))\n",
    "\n",
    "# Any results you write to the current directory are saved as output."
   ]
  },
  {
   "cell_type": "code",
   "execution_count": null,
   "metadata": {
    "_cell_guid": "79c7e3d0-c299-4dcb-8224-4455121ee9b0",
    "_uuid": "d629ff2d2480ee46fbb7e2d37f6b5fab8052498a"
   },
   "outputs": [],
   "source": [
    "df = pd.read_csv('../input/startup_funding.csv')"
   ]
  },
  {
   "cell_type": "code",
   "execution_count": null,
   "metadata": {
    "_uuid": "942981f1d3d5168e664aa882e50c8269ecebdc14"
   },
   "outputs": [],
   "source": [
    "df.head()"
   ]
  },
  {
   "cell_type": "code",
   "execution_count": null,
   "metadata": {
    "_uuid": "2fe5276f696189012614125d5b2affd4c725953a"
   },
   "outputs": [],
   "source": [
    "df.describe()"
   ]
  },
  {
   "cell_type": "code",
   "execution_count": null,
   "metadata": {
    "_uuid": "7246adfc020de88206492db64b673ff2569a7e02"
   },
   "outputs": [],
   "source": [
    "df.shape"
   ]
  },
  {
   "cell_type": "code",
   "execution_count": null,
   "metadata": {
    "_uuid": "21df83b44b073bf20e02657c28e2fc05f617ef89"
   },
   "outputs": [],
   "source": [
    "df.isnull().sum() / df.shape[0]"
   ]
  },
  {
   "cell_type": "code",
   "execution_count": null,
   "metadata": {
    "_uuid": "deb9ea8af7d6466eb9815b72ec9b7510d3a8e74a"
   },
   "outputs": [],
   "source": [
    "# Drop Remarks column as it has too many missing values.\n",
    "# the subvertical may also be difficult to work with as ~39%.\n",
    "# also the AmountInUSD is miss more than a third. Since this \n",
    "# is an important columns we will want to keep it.\n",
    "df.drop(columns=['Remarks'], axis=1, inplace=True)"
   ]
  },
  {
   "cell_type": "code",
   "execution_count": null,
   "metadata": {
    "_uuid": "af8839e829b921527394a5f5473720d555de33f5"
   },
   "outputs": [],
   "source": [
    "# Clean up investment amount.\n",
    "df['AmountInUSD'].replace(to_replace=',', value='', regex=True, inplace=True)\n",
    "df['AmountInUSD'].fillna(0, inplace=True)\n",
    "df['AmountInUSD'] = df['AmountInUSD'].astype(int)"
   ]
  },
  {
   "cell_type": "code",
   "execution_count": null,
   "metadata": {
    "_uuid": "26f14427df5101f241e3b2b27cc636daa3cd0ab6"
   },
   "outputs": [],
   "source": [
    "# Need to remove .com and .in from names in case of duplicates.\n",
    "df['StartupName'].replace(to_replace=['.in', '.com', '.co'], value='', regex=True, inplace=True)"
   ]
  },
  {
   "cell_type": "code",
   "execution_count": null,
   "metadata": {
    "_uuid": "775aa697ab1a12463193ca45d1064bcf95a9dfe6"
   },
   "outputs": [],
   "source": [
    "# Remove rows where the Investor is unidentified.\n",
    "df = df[~df['InvestorsName'].isin(['Undisclosed HNIs', 'undisclosed investors', 'Undisclosed Investor', 'Undisclosed investor', 'Undisclosed', 'Undisclosed investors', 'Undisclosed Investors', 'Undisclosed investors'])]"
   ]
  },
  {
   "cell_type": "code",
   "execution_count": null,
   "metadata": {
    "_uuid": "030482daf72a90d0ba607d2425e0af02900f0763"
   },
   "outputs": [],
   "source": [
    "# Consider how to treat rows that have multiple investors. \n",
    "# Perhaps split them into multiple rows, one per investor?\n"
   ]
  },
  {
   "cell_type": "code",
   "execution_count": null,
   "metadata": {
    "_uuid": "6f32c66e61c8a5412f90c497486b62fa8f38dfa6"
   },
   "outputs": [],
   "source": [
    "# Plot the number investments per investor and the range of investment sizes.\n",
    "import matplotlib.pyplot as plt\n",
    "%matplotlib inline\n",
    "\n",
    "count_by_investor = df.groupby(['InvestorsName']).size().reset_index(name='NumberInvestmentsPerInvestor').sort_values(by='NumberInvestmentsPerInvestor', ascending=False)\n",
    "\n",
    "# Select the top 20 most active investors to investigate further.\n",
    "count_by_investor = count_by_investor[0:20]\n",
    "\n",
    "most_active_investors = count_by_investor['InvestorsName'].tolist()\n",
    "number_investments = count_by_investor['NumberInvestmentsPerInvestor'].tolist()\n",
    "\n",
    "x_pos = [i for i, _ in enumerate(most_active_investors)]\n",
    "\n",
    "plt.barh(x_pos, number_investments)\n",
    "\n",
    "plt.ylabel(\"Investor\")\n",
    "plt.xlabel(\"Number of Investments\")\n",
    "plt.title(\"20 Most Active Start-up Investors\")\n",
    "\n",
    "plt.yticks(x_pos, most_active_investors)\n",
    "\n",
    "plt.show()\n"
   ]
  },
  {
   "cell_type": "markdown",
   "metadata": {
    "_uuid": "b6ca7b20b59b9a5e69cd4f7c01cc33a7491b61f2"
   },
   "source": [
    "In the data set there are **X** number if investments made by **Y** investors (or groups of investors). Undisclosed investors represrent **Z** percent of the investments and are excluded from the sample.\n",
    "\n",
    "We plot the top 20 most active investors over the sample period that made **Y** investments. This number ranges from 24 investments made by the Indian Angel Network and Ratan Tata to 5 investment. This suggest there is a long tail of investors making a small number of investments each year."
   ]
  },
  {
   "cell_type": "code",
   "execution_count": null,
   "metadata": {
    "_uuid": "c8021bb5a704d55d09a2c3663d220d742adfe2f8"
   },
   "outputs": [],
   "source": [
    "# Plot the range of investment sizes per\n",
    "active_investors = df[df['InvestorsName'].isin(most_active_investors)]\n",
    "active_investors['AmountInUSD'] = np.log(active_investors['AmountInUSD'])\n",
    "\n",
    "plt.boxplot(active_investors['AmountInUSD'], active_investors['InvestorsName'])\n",
    "plt.show()"
   ]
  },
  {
   "cell_type": "code",
   "execution_count": null,
   "metadata": {
    "_uuid": "36a08ebca88b96847345fecac277e18f88a019dc"
   },
   "outputs": [],
   "source": [
    "# Plot the number of investments per investment type and range of values.\n",
    "\n",
    "count_by_investment_type = df.groupby(['InvestmentType']).size().reset_index(name='NumberPerInvestmentType').sort_values(by='NumberPerInvestmentType', ascending=False)\n",
    "\n",
    "investment_type = count_by_investment_type['InvestmentType'].tolist()\n",
    "number_investments_type = count_by_investment_type['NumberPerInvestmentType'].tolist()\n",
    "\n",
    "x_pos = [i for i, _ in enumerate(investment_type)]\n",
    "\n",
    "plt.barh(x_pos, number_investments_type)\n",
    "\n",
    "plt.ylabel(\"Investment Type\")\n",
    "plt.xlabel(\"Number of Investments\")\n",
    "plt.title(\"Number of Investments by Investment Type\")\n",
    "\n",
    "plt.yticks(x_pos, investment_type)\n",
    "\n",
    "plt.show()"
   ]
  },
  {
   "cell_type": "code",
   "execution_count": null,
   "metadata": {
    "_uuid": "d78bd0f415866618da5dd4d87bfe0cf3bb1de736"
   },
   "outputs": [],
   "source": [
    "count_by_industry = df.groupby(['IndustryVertical']).size().reset_index(name='NumberInvestmentsPerIndustry').sort_values(by='NumberInvestmentsPerIndustry', ascending=False)\n",
    "\n",
    "# Select the top 10 most active industries to investigate further.\n",
    "count_by_industry = count_by_industry[0:10]\n",
    "\n",
    "most_active_industry = count_by_industry['IndustryVertical'].tolist()\n",
    "number_investments = count_by_industry['NumberInvestmentsPerIndustry'].tolist()\n",
    "\n",
    "x_pos = [i for i, _ in enumerate(most_active_industry)]\n",
    "\n",
    "plt.barh(x_pos, number_investments)\n",
    "\n",
    "plt.ylabel(\"Industry Vertical\")\n",
    "plt.xlabel(\"Number of Investments\")\n",
    "plt.title(\"10 Most Active Start-up IndustryVerticals\")\n",
    "\n",
    "plt.yticks(x_pos, most_active_industry)\n",
    "\n",
    "plt.show()"
   ]
  },
  {
   "cell_type": "code",
   "execution_count": null,
   "metadata": {
    "_uuid": "1c3da11cbce7f7d8f8249fe9142829590b91944d"
   },
   "outputs": [],
   "source": [
    "# Plot a a timeseries investments by top 20 investors."
   ]
  },
  {
   "cell_type": "code",
   "execution_count": null,
   "metadata": {
    "_uuid": "ecb169d5099d9e89b0335f1935634b396beda215"
   },
   "outputs": [],
   "source": [
    "# Key questions\n",
    "# (1) Do investors tend to invest in similar industries?\n",
    "# (2) Do investors tend to invest in the same companies?\n",
    "# (3) Do industries become popular at certain times?\n",
    "# (4) Is investment concentrated in industries or locations?"
   ]
  },
  {
   "cell_type": "code",
   "execution_count": null,
   "metadata": {
    "_uuid": "2f5c7df5b545a734b4d9b93d4cba62ab303dbf48"
   },
   "outputs": [],
   "source": []
  },
  {
   "cell_type": "code",
   "execution_count": null,
   "metadata": {
    "_uuid": "fce957021a5af583d9dd85910d7eb30aeffc6512"
   },
   "outputs": [],
   "source": [
    "# Plot investment by industry over time.\n",
    "\n",
    "# Covert industries outside the top 10 most active to 'Other'\n",
    "\n",
    "df.loc[df['IndustryVertical'].isin(most_active_industry), 'IndustryVertical'] = 'Others'\n",
    "\n",
    "\n",
    "#investment_by_date = df.groupby(['Date', 'IndustryVertical'])['AmountInUSD'].sum().reset_index(name='MonthlyInvestment')\n",
    "#investment_by_date['IndustryVertical']"
   ]
  },
  {
   "cell_type": "code",
   "execution_count": null,
   "metadata": {
    "_uuid": "3551d86ec607c11debc1f2d263b5c04f07ea5049"
   },
   "outputs": [],
   "source": [
    "df"
   ]
  },
  {
   "cell_type": "code",
   "execution_count": null,
   "metadata": {
    "_uuid": "6648438a1bb20234d6412694ba970af2d5dce42a"
   },
   "outputs": [],
   "source": [
    "\n",
    "\n",
    "date = df['Date'].tolist()\n",
    "bronzes = np.array([38, 17, 26, 19, 15])\n",
    "silvers = np.array([37, 23, 18, 18, 10])\n",
    "golds = np.array([46, 27, 26, 19, 17])\n",
    "ind = [x for x, _ in enumerate(countries)]\n",
    "\n",
    "plt.bar(ind, golds, width=0.8, label='golds', color='gold', bottom=silvers+bronzes)\n",
    "plt.bar(ind, silvers, width=0.8, label='silvers', color='silver', bottom=bronzes)\n",
    "plt.bar(ind, bronzes, width=0.8, label='bronzes', color='#CD853F')\n",
    "\n",
    "plt.xticks(ind, countries)\n",
    "plt.ylabel(\"Medals\")\n",
    "plt.xlabel(\"Countries\")\n",
    "plt.legend(loc=\"upper right\")\n",
    "plt.title(\"2012 Olympics Top Scorers\")\n",
    "\n",
    "plt.show()"
   ]
  },
  {
   "cell_type": "code",
   "execution_count": null,
   "metadata": {
    "_uuid": "354743f73b22620a4fdb3f78a5628fc2597d9712"
   },
   "outputs": [],
   "source": [
    "# Convert date to MMYY\n",
    "df['Date'].strftime(\"%m-%Y\")"
   ]
  },
  {
   "cell_type": "code",
   "execution_count": null,
   "metadata": {
    "_uuid": "853ad5bb52c4fbef3721ce60d074a466a7a15026"
   },
   "outputs": [],
   "source": []
  }
 ],
 "metadata": {
  "kernelspec": {
   "display_name": "Python 3",
   "language": "python",
   "name": "python3"
  },
  "language_info": {
   "codemirror_mode": {
    "name": "ipython",
    "version": 3
   },
   "file_extension": ".py",
   "mimetype": "text/x-python",
   "name": "python",
   "nbconvert_exporter": "python",
   "pygments_lexer": "ipython3",
   "version": "3.7.1"
  }
 },
 "nbformat": 4,
 "nbformat_minor": 1
}
