{
 "cells": [
  {
   "cell_type": "markdown",
   "metadata": {},
   "source": [
    "# Developing an AI application\n",
    "\n",
    "Going forward, AI algorithms will be incorporated into more and more everyday applications. For example, you might want to include an image classifier in a smart phone app. To do this, you'd use a deep learning model trained on hundreds of thousands of images as part of the overall application architecture. A large part of software development in the future will be using these types of models as common parts of applications. \n",
    "\n",
    "In this project, you'll train an image classifier to recognize different species of flowers. You can imagine using something like this in a phone app that tells you the name of the flower your camera is looking at. In practice you'd train this classifier, then export it for use in your application. We'll be using [this dataset](http://www.robots.ox.ac.uk/~vgg/data/flowers/102/index.html) of 102 flower categories, you can see a few examples below. \n",
    "\n",
    "<img src='assets/Flowers.png' width=500px>\n",
    "\n",
    "The project is broken down into multiple steps:\n",
    "\n",
    "* Load and preprocess the image dataset\n",
    "* Train the image classifier on your dataset\n",
    "* Use the trained classifier to predict image content\n",
    "\n",
    "We'll lead you through each part which you'll implement in Python.\n",
    "\n",
    "When you've completed this project, you'll have an application that can be trained on any set of labeled images. Here your network will be learning about flowers and end up as a command line application. But, what you do with your new skills depends on your imagination and effort in building a dataset. For example, imagine an app where you take a picture of a car, it tells you what the make and model is, then looks up information about it. Go build your own dataset and make something new.\n",
    "\n",
    "First up is importing the packages you'll need. It's good practice to keep all the imports at the beginning of your code. As you work through this notebook and find you need to import a package, make sure to add the import up here.\n",
    "\n",
    "Please make sure if you are running this notebook in the workspace that you have chosen GPU rather than CPU mode."
   ]
  },
  {
   "cell_type": "code",
   "execution_count": 94,
   "metadata": {},
   "outputs": [],
   "source": [
    "# Imports here\n",
    "import torch\n",
    "from torch import nn\n",
    "from torch import optim\n",
    "import torch.nn.functional as F\n",
    "from torch.autograd import Variable\n",
    "\n",
    "from torchvision import datasets, transforms, models\n",
    "\n",
    "from PIL import Image\n",
    "\n",
    "from collections import OrderedDict\n",
    "\n",
    "import matplotlib.pyplot as plt\n",
    "import matplotlib.image as mpimg\n",
    "\n",
    "import numpy as np\n",
    "\n",
    "import json"
   ]
  },
  {
   "cell_type": "markdown",
   "metadata": {},
   "source": [
    "## Load the data\n",
    "\n",
    "Here you'll use `torchvision` to load the data ([documentation](http://pytorch.org/docs/0.3.0/torchvision/index.html)). The data should be included alongside this notebook, otherwise you can [download it here](https://s3.amazonaws.com/content.udacity-data.com/nd089/flower_data.tar.gz). The dataset is split into three parts, training, validation, and testing. For the training, you'll want to apply transformations such as random scaling, cropping, and flipping. This will help the network generalize leading to better performance. You'll also need to make sure the input data is resized to 224x224 pixels as required by the pre-trained networks.\n",
    "\n",
    "The validation and testing sets are used to measure the model's performance on data it hasn't seen yet. For this you don't want any scaling or rotation transformations, but you'll need to resize then crop the images to the appropriate size.\n",
    "\n",
    "The pre-trained networks you'll use were trained on the ImageNet dataset where each color channel was normalized separately. For all three sets you'll need to normalize the means and standard deviations of the images to what the network expects. For the means, it's `[0.485, 0.456, 0.406]` and for the standard deviations `[0.229, 0.224, 0.225]`, calculated from the ImageNet images.  These values will shift each color channel to be centered at 0 and range from -1 to 1.\n",
    " "
   ]
  },
  {
   "cell_type": "code",
   "execution_count": 95,
   "metadata": {},
   "outputs": [],
   "source": [
    "data_dir = 'flowers'\n",
    "train_dir = data_dir + '/train'\n",
    "valid_dir = data_dir + '/valid'\n",
    "test_dir = data_dir + '/test'"
   ]
  },
  {
   "cell_type": "code",
   "execution_count": 96,
   "metadata": {},
   "outputs": [],
   "source": [
    "# Training data augmentation - torchvision transforms are used to augment the training data with random scaling, rotations, mirroring, and/or cropping.\n",
    "# Data normalization - The training, validation, and testing data is appropriately cropped and normalized.\n",
    "\n",
    "data_transforms = {\n",
    "'train_transforms': transforms.Compose([transforms.RandomRotation(30),\n",
    "                                      transforms.RandomResizedCrop(224),\n",
    "                                      transforms.RandomHorizontalFlip(),\n",
    "                                      transforms.ToTensor(),\n",
    "                                      transforms.Normalize([0.485, 0.456, 0.406],\n",
    "                                                            [0.229, 0.224, 0.225])]),\n",
    "\n",
    "'valid_transforms': transforms.Compose([transforms.Resize(255),\n",
    "                                      transforms.CenterCrop(224),\n",
    "                                      transforms.ToTensor(),\n",
    "                                      transforms.Normalize([0.485, 0.456, 0.406],\n",
    "                                                           [0.229, 0.224, 0.225])]),\n",
    "\n",
    "'test_transforms': transforms.Compose([transforms.Resize(255),\n",
    "                                      transforms.CenterCrop(224),\n",
    "                                      transforms.ToTensor(),\n",
    "                                      transforms.Normalize([0.485, 0.456, 0.406],\n",
    "                                                           [0.229, 0.224, 0.225])])\n",
    "}"
   ]
  },
  {
   "cell_type": "code",
   "execution_count": 97,
   "metadata": {},
   "outputs": [],
   "source": [
    "# Data batching - The data for each set is loaded with torchvision's DataLoader.\n",
    "image_datasets = {\n",
    "'train_data': datasets.ImageFolder(train_dir, transform=data_transforms['train_transforms']),\n",
    "'valid_data': datasets.ImageFolder(valid_dir, transform=data_transforms['valid_transforms']),\n",
    "'test_data': datasets.ImageFolder(test_dir, transform=data_transforms['test_transforms'])\n",
    "}"
   ]
  },
  {
   "cell_type": "code",
   "execution_count": 98,
   "metadata": {},
   "outputs": [],
   "source": [
    "# Data loading - The data for each set (train, validation, test) is loaded with torchvision's ImageFolder.\n",
    "data_loaders = {\n",
    "'trainloader': torch.utils.data.DataLoader(image_datasets['train_data'], batch_size=64, shuffle=True),\n",
    "'validloader': torch.utils.data.DataLoader(image_datasets['valid_data'], batch_size=64),\n",
    "'testloader': torch.utils.data.DataLoader(image_datasets['test_data'], batch_size=64)\n",
    "}"
   ]
  },
  {
   "cell_type": "markdown",
   "metadata": {},
   "source": [
    "### Label mapping\n",
    "\n",
    "You'll also need to load in a mapping from category label to category name. You can find this in the file `cat_to_name.json`. It's a JSON object which you can read in with the [`json` module](https://docs.python.org/2/library/json.html). This will give you a dictionary mapping the integer encoded categories to the actual names of the flowers."
   ]
  },
  {
   "cell_type": "code",
   "execution_count": 99,
   "metadata": {},
   "outputs": [],
   "source": [
    "with open('cat_to_name.json', 'r') as f:\n",
    "    cat_to_name = json.load(f)"
   ]
  },
  {
   "cell_type": "markdown",
   "metadata": {},
   "source": [
    "# Building and training the classifier\n",
    "\n",
    "Now that the data is ready, it's time to build and train the classifier. As usual, you should use one of the pretrained models from `torchvision.models` to get the image features. Build and train a new feed-forward classifier using those features.\n",
    "\n",
    "We're going to leave this part up to you. Refer to [the rubric](https://review.udacity.com/#!/rubrics/1663/view) for guidance on successfully completing this section. Things you'll need to do:\n",
    "\n",
    "* Load a [pre-trained network](http://pytorch.org/docs/master/torchvision/models.html) (If you need a starting point, the VGG networks work great and are straightforward to use)\n",
    "* Define a new, untrained feed-forward network as a classifier, using ReLU activations and dropout\n",
    "* Train the classifier layers using backpropagation using the pre-trained network to get the features\n",
    "* Track the loss and accuracy on the validation set to determine the best hyperparameters\n",
    "\n",
    "We've left a cell open for you below, but use as many as you need. Our advice is to break the problem up into smaller parts you can run separately. Check that each part is doing what you expect, then move on to the next. You'll likely find that as you work through each part, you'll need to go back and modify your previous code. This is totally normal!\n",
    "\n",
    "When training make sure you're updating only the weights of the feed-forward network. You should be able to get the validation accuracy above 70% if you build everything right. Make sure to try different hyperparameters (learning rate, units in the classifier, epochs, etc) to find the best model. Save those hyperparameters to use as default values in the next part of the project.\n",
    "\n",
    "One last important tip if you're using the workspace to run your code: To avoid having your workspace disconnect during the long-running tasks in this notebook, please read in the earlier page in this lesson called Intro to GPU Workspaces about Keeping Your Session Active. You'll want to include code from the workspace_utils.py module."
   ]
  },
  {
   "cell_type": "code",
   "execution_count": 100,
   "metadata": {},
   "outputs": [],
   "source": [
    "# TODO: Build and train your network\n",
    "def construct_model(hidden_layers, learning_rate, drop_out):\n",
    "\n",
    "    # Pretrained Network - A pretrained network such as VGG16 is loaded from torchvision.models and the parameters are frozen.\n",
    "    model = models.vgg16(pretrained=True)\n",
    "\n",
    "    for param in model.parameters():\n",
    "        param.requires_grad = False\n",
    "        \n",
    "    # Feedforward Classifier - A new feedforward network is defined for use as a classifier using the features as input.\n",
    "    classifier = nn.Sequential(OrderedDict([\n",
    "                          ('fc1', nn.Linear(25088, hidden_layers)),\n",
    "                          ('relu', nn.ReLU()),\n",
    "                          ('dropout', nn.Dropout(drop_out)),\n",
    "                          ('fc2', nn.Linear(hidden_layers, 102)),\n",
    "                          ('output', nn.LogSoftmax(dim=1))\n",
    "                          ]))\n",
    "\n",
    "    model.classifier = classifier\n",
    "    \n",
    "    # Training the network - The parameters of the feedforward classifier are appropriately trained, while the parameters of the feature network are left static.\n",
    "    device = torch.device(\"cuda\" if torch.cuda.is_available() else \"cpu\")\n",
    "\n",
    "    criterion = nn.NLLLoss()\n",
    "\n",
    "    # Only train the classifier parameters, feature parameters are frozen\n",
    "    optimizer = optim.Adam(model.classifier.parameters(), lr=learning_rate)\n",
    "\n",
    "    model.to(device);\n",
    "    \n",
    "    return model, criterion, optimizer, device"
   ]
  },
  {
   "cell_type": "code",
   "execution_count": 101,
   "metadata": {},
   "outputs": [],
   "source": [
    "hidden_layers = 4096\n",
    "learning_rate = 0.001\n",
    "drop_out = 0.4\n",
    "epochs = 3\n",
    "\n",
    "model, criterion, optimizer, device = construct_model(hidden_layers, learning_rate, drop_out)"
   ]
  },
  {
   "cell_type": "code",
   "execution_count": 102,
   "metadata": {},
   "outputs": [],
   "source": [
    "# Validation Loss and Accuracy - During training, the validation loss and accuracy are displayed.\n",
    "\n",
    "def train_model(model, trainloader, validloader, criterion, optimizer, epochs, device):\n",
    "    steps = 0\n",
    "    running_loss = 0\n",
    "    print_every = 10\n",
    "    for epoch in range(epochs):\n",
    "        for inputs, labels in trainloader:\n",
    "            steps += 1\n",
    "            # Move input and label tensors to the default device\n",
    "            inputs, labels = inputs.to(device), labels.to(device)\n",
    "\n",
    "            optimizer.zero_grad()\n",
    "\n",
    "            logps = model.forward(inputs)\n",
    "            loss = criterion(logps, labels)\n",
    "            loss.backward()\n",
    "            optimizer.step()\n",
    "\n",
    "            running_loss += loss.item()\n",
    "\n",
    "            if steps % print_every == 0:\n",
    "                valid_loss = 0\n",
    "                accuracy = 0\n",
    "                model.eval()\n",
    "                with torch.no_grad():\n",
    "                    for inputs, labels in validloader:\n",
    "                        inputs, labels = inputs.to(device), labels.to(device)\n",
    "                        logps = model.forward(inputs)\n",
    "                        batch_loss = criterion(logps, labels)\n",
    "\n",
    "                        valid_loss += batch_loss.item()\n",
    "\n",
    "                        # Calculate accuracy\n",
    "                        ps = torch.exp(logps)\n",
    "                        top_p, top_class = ps.topk(1, dim=1)\n",
    "                        equals = top_class == labels.view(*top_class.shape)\n",
    "                        accuracy += torch.mean(equals.type(torch.FloatTensor)).item()\n",
    "\n",
    "                print(f\"Epoch {epoch+1}/{epochs}.. \"\n",
    "                      f\"Train loss: {running_loss/print_every:.3f}.. \"\n",
    "                      f\"Validation loss: {valid_loss/len(validloader):.3f}.. \"\n",
    "                      f\"Validation accuracy: {accuracy/len(validloader):.3f}\")\n",
    "                running_loss = 0\n",
    "                model.train()"
   ]
  },
  {
   "cell_type": "code",
   "execution_count": 103,
   "metadata": {},
   "outputs": [
    {
     "name": "stdout",
     "output_type": "stream",
     "text": [
      "Epoch 1/3.. Train loss: 8.991.. Validation loss: 5.379.. Validation accuracy: 0.130\n",
      "Epoch 1/3.. Train loss: 4.377.. Validation loss: 2.983.. Validation accuracy: 0.390\n",
      "Epoch 1/3.. Train loss: 3.194.. Validation loss: 2.167.. Validation accuracy: 0.483\n",
      "Epoch 1/3.. Train loss: 2.441.. Validation loss: 1.572.. Validation accuracy: 0.602\n",
      "Epoch 1/3.. Train loss: 2.292.. Validation loss: 1.278.. Validation accuracy: 0.651\n",
      "Epoch 1/3.. Train loss: 1.990.. Validation loss: 1.150.. Validation accuracy: 0.685\n",
      "Epoch 1/3.. Train loss: 1.817.. Validation loss: 1.018.. Validation accuracy: 0.726\n",
      "Epoch 1/3.. Train loss: 1.678.. Validation loss: 0.860.. Validation accuracy: 0.771\n",
      "Epoch 1/3.. Train loss: 1.474.. Validation loss: 0.827.. Validation accuracy: 0.769\n",
      "Epoch 1/3.. Train loss: 1.502.. Validation loss: 0.760.. Validation accuracy: 0.798\n",
      "Epoch 2/3.. Train loss: 1.348.. Validation loss: 0.803.. Validation accuracy: 0.771\n",
      "Epoch 2/3.. Train loss: 1.301.. Validation loss: 0.722.. Validation accuracy: 0.808\n",
      "Epoch 2/3.. Train loss: 1.383.. Validation loss: 0.712.. Validation accuracy: 0.785\n",
      "Epoch 2/3.. Train loss: 1.342.. Validation loss: 0.656.. Validation accuracy: 0.820\n",
      "Epoch 2/3.. Train loss: 1.292.. Validation loss: 0.641.. Validation accuracy: 0.810\n",
      "Epoch 2/3.. Train loss: 1.261.. Validation loss: 0.661.. Validation accuracy: 0.830\n",
      "Epoch 2/3.. Train loss: 1.285.. Validation loss: 0.640.. Validation accuracy: 0.821\n",
      "Epoch 2/3.. Train loss: 1.314.. Validation loss: 0.545.. Validation accuracy: 0.850\n",
      "Epoch 2/3.. Train loss: 1.218.. Validation loss: 0.579.. Validation accuracy: 0.830\n",
      "Epoch 2/3.. Train loss: 1.241.. Validation loss: 0.582.. Validation accuracy: 0.851\n",
      "Epoch 3/3.. Train loss: 1.116.. Validation loss: 0.619.. Validation accuracy: 0.831\n",
      "Epoch 3/3.. Train loss: 1.080.. Validation loss: 0.591.. Validation accuracy: 0.836\n",
      "Epoch 3/3.. Train loss: 1.125.. Validation loss: 0.564.. Validation accuracy: 0.847\n",
      "Epoch 3/3.. Train loss: 1.242.. Validation loss: 0.519.. Validation accuracy: 0.851\n",
      "Epoch 3/3.. Train loss: 1.154.. Validation loss: 0.467.. Validation accuracy: 0.863\n",
      "Epoch 3/3.. Train loss: 1.167.. Validation loss: 0.469.. Validation accuracy: 0.859\n",
      "Epoch 3/3.. Train loss: 1.046.. Validation loss: 0.434.. Validation accuracy: 0.883\n",
      "Epoch 3/3.. Train loss: 1.093.. Validation loss: 0.472.. Validation accuracy: 0.869\n",
      "Epoch 3/3.. Train loss: 1.253.. Validation loss: 0.549.. Validation accuracy: 0.847\n",
      "Epoch 3/3.. Train loss: 1.144.. Validation loss: 0.533.. Validation accuracy: 0.851\n"
     ]
    }
   ],
   "source": [
    "trainloader = data_loaders['trainloader']\n",
    "validloader = data_loaders['validloader']\n",
    "\n",
    "train_model(model, trainloader, validloader, criterion, optimizer, epochs, device)"
   ]
  },
  {
   "cell_type": "markdown",
   "metadata": {},
   "source": [
    "## Testing your network\n",
    "\n",
    "It's good practice to test your trained network on test data, images the network has never seen either in training or validation. This will give you a good estimate for the model's performance on completely new images. Run the test images through the network and measure the accuracy, the same way you did validation. You should be able to reach around 70% accuracy on the test set if the model has been trained well."
   ]
  },
  {
   "cell_type": "code",
   "execution_count": 104,
   "metadata": {},
   "outputs": [],
   "source": [
    "# TODO: Do validation on the test set\n",
    "# Testing Accuracy - The network's accuracy is measured on the test data.\n",
    "\n",
    "def validate_model(model, criterion, testloader):\n",
    "    accuracy = 0\n",
    "    model.eval()\n",
    "    with torch.no_grad():\n",
    "        for inputs, labels in testloader:\n",
    "            inputs, labels = inputs.to(device), labels.to(device)\n",
    "            logps = model.forward(inputs)\n",
    "\n",
    "            ps = torch.exp(logps)\n",
    "            top_p, top_class = ps.topk(1, dim=1)\n",
    "            equals = top_class == labels.view(*top_class.shape)\n",
    "            accuracy += torch.mean(equals.type(torch.FloatTensor)).item()\n",
    "\n",
    "            return accuracy/len(testloader)\n"
   ]
  },
  {
   "cell_type": "code",
   "execution_count": 105,
   "metadata": {},
   "outputs": [
    {
     "name": "stdout",
     "output_type": "stream",
     "text": [
      "Test accuracy: 0.067\n"
     ]
    }
   ],
   "source": [
    "testloader = data_loaders['testloader']\n",
    "\n",
    "accuracy = validate_model(model, criterion, testloader)\n",
    "\n",
    "print(f\"Test accuracy: {accuracy:.3f}\")"
   ]
  },
  {
   "cell_type": "markdown",
   "metadata": {},
   "source": [
    "## Save the checkpoint\n",
    "\n",
    "Now that your network is trained, save the model so you can load it later for making predictions. You probably want to save other things such as the mapping of classes to indices which you get from one of the image datasets: `image_datasets['train'].class_to_idx`. You can attach this to the model as an attribute which makes inference easier later on.\n",
    "\n",
    "```model.class_to_idx = image_datasets['train'].class_to_idx```\n",
    "\n",
    "Remember that you'll want to completely rebuild the model later so you can use it for inference. Make sure to include any information you need in the checkpoint. If you want to load the model and keep training, you'll want to save the number of epochs as well as the optimizer state, `optimizer.state_dict`. You'll likely want to use this trained model in the next part of the project, so best to save it now."
   ]
  },
  {
   "cell_type": "code",
   "execution_count": 106,
   "metadata": {},
   "outputs": [],
   "source": [
    "# TODO: Save the checkpoint \n",
    "def save_checkpoint(learning_rate, hidden_layers, drop_out, epochs):\n",
    "    model.class_to_idx =  image_datasets['train_data'].class_to_idx\n",
    "    model.cpu\n",
    "\n",
    "    checkpoint = {\n",
    "        'structure': 'vgg16',\n",
    "        'learning_rate': learning_rate,\n",
    "        'hidden_layers': hidden_layers,\n",
    "        'drop_out': drop_out,\n",
    "        'epochs': epochs,\n",
    "        'state_dict': model.state_dict(),\n",
    "        'optimizer' : optimizer.state_dict(),\n",
    "        'class_to_idx' : model.class_to_idx\n",
    "    }\n",
    "\n",
    "    torch.save(checkpoint, 'checkpoint.pth')"
   ]
  },
  {
   "cell_type": "markdown",
   "metadata": {},
   "source": [
    "## Loading the checkpoint\n",
    "\n",
    "At this point it's good to write a function that can load a checkpoint and rebuild the model. That way you can come back to this project and keep working on it without having to retrain the network."
   ]
  },
  {
   "cell_type": "code",
   "execution_count": 108,
   "metadata": {},
   "outputs": [],
   "source": [
    "# TODO: Write a function that loads a checkpoint and rebuilds the model\n",
    "\n",
    "def load_model(path):\n",
    "    checkpoint = torch.load('checkpoint.pth')\n",
    "    structure = checkpoint['structure']\n",
    "    learning_rate = checkpoint['learning_rate']\n",
    "    hidden_layers = checkpoint['hidden_layers']\n",
    "    drop_out = checkpoint['drop_out']\n",
    "    epochs = checkpoint['epochs']\n",
    "     \n",
    "    model,_,_,_ = construct_model(hidden_layers, learning_rate, drop_out)\n",
    "    \n",
    "    optimizer.load_state_dict(checkpoint['optimizer'])\n",
    "    \n",
    "    model.class_to_idx = checkpoint['class_to_idx']\n",
    "    model.load_state_dict(checkpoint['state_dict'])\n",
    "    \n",
    "    return model\n",
    "    \n",
    "model = load_model('checkpoint.pth')  "
   ]
  },
  {
   "cell_type": "markdown",
   "metadata": {},
   "source": [
    "# Inference for classification\n",
    "\n",
    "Now you'll write a function to use a trained network for inference. That is, you'll pass an image into the network and predict the class of the flower in the image. Write a function called `predict` that takes an image and a model, then returns the top $K$ most likely classes along with the probabilities. It should look like \n",
    "\n",
    "```python\n",
    "probs, classes = predict(image_path, model)\n",
    "print(probs)\n",
    "print(classes)\n",
    "> [ 0.01558163  0.01541934  0.01452626  0.01443549  0.01407339]\n",
    "> ['70', '3', '45', '62', '55']\n",
    "```\n",
    "\n",
    "First you'll need to handle processing the input image such that it can be used in your network. \n",
    "\n",
    "## Image Preprocessing\n",
    "\n",
    "You'll want to use `PIL` to load the image ([documentation](https://pillow.readthedocs.io/en/latest/reference/Image.html)). It's best to write a function that preprocesses the image so it can be used as input for the model. This function should process the images in the same manner used for training. \n",
    "\n",
    "First, resize the images where the shortest side is 256 pixels, keeping the aspect ratio. This can be done with the [`thumbnail`](http://pillow.readthedocs.io/en/3.1.x/reference/Image.html#PIL.Image.Image.thumbnail) or [`resize`](http://pillow.readthedocs.io/en/3.1.x/reference/Image.html#PIL.Image.Image.thumbnail) methods. Then you'll need to crop out the center 224x224 portion of the image.\n",
    "\n",
    "Color channels of images are typically encoded as integers 0-255, but the model expected floats 0-1. You'll need to convert the values. It's easiest with a Numpy array, which you can get from a PIL image like so `np_image = np.array(pil_image)`.\n",
    "\n",
    "As before, the network expects the images to be normalized in a specific way. For the means, it's `[0.485, 0.456, 0.406]` and for the standard deviations `[0.229, 0.224, 0.225]`. You'll want to subtract the means from each color channel, then divide by the standard deviation. \n",
    "\n",
    "And finally, PyTorch expects the color channel to be the first dimension but it's the third dimension in the PIL image and Numpy array. You can reorder dimensions using [`ndarray.transpose`](https://docs.scipy.org/doc/numpy-1.13.0/reference/generated/numpy.ndarray.transpose.html). The color channel needs to be first and retain the order of the other two dimensions."
   ]
  },
  {
   "cell_type": "code",
   "execution_count": 109,
   "metadata": {},
   "outputs": [],
   "source": [
    "def process_image(image):\n",
    "    # TODO: Process a PIL image for use in a PyTorch model\n",
    "    image = Image.open(image)\n",
    "    size = 224\n",
    "    width, height = image.size\n",
    "    \n",
    "    if height > width:\n",
    "        height = int(max(height * size / width, 1))\n",
    "        width = int(size)\n",
    "    else:\n",
    "        width = int(max(width * size / height, 1))\n",
    "        height = int(size)\n",
    "        \n",
    "    resized_image = image.resize((width, height))\n",
    "        \n",
    "    x0 = (width - size) / 2\n",
    "    y0 = (height - size) / 2\n",
    "    x1 = x0 + size\n",
    "    y1 = y0 + size\n",
    "    \n",
    "    cropped_image = image.crop((x0, y0, x1, y1))\n",
    "    \n",
    "    np_image = np.array(cropped_image) / 255.\n",
    "    \n",
    "    mean = np.array([0.485, 0.456, 0.406])\n",
    "    std = np.array([0.229, 0.224, 0.225])     \n",
    "    \n",
    "    np_image_array = (np_image - mean) / std\n",
    "    \n",
    "    np_image_array = np_image.transpose((2, 0, 1))\n",
    "    \n",
    "    return np_image_array"
   ]
  },
  {
   "cell_type": "markdown",
   "metadata": {},
   "source": [
    "To check your work, the function below converts a PyTorch tensor and displays it in the notebook. If your `process_image` function works, running the output through this function should return the original image (except for the cropped out portions)."
   ]
  },
  {
   "cell_type": "code",
   "execution_count": 110,
   "metadata": {},
   "outputs": [],
   "source": [
    "def imshow(image, ax=None, title=None):\n",
    "    if ax is None:\n",
    "        fig, ax = plt.subplots()\n",
    "    \n",
    "    # PyTorch tensors assume the color channel is the first dimension\n",
    "    # but matplotlib assumes is the third dimension\n",
    "    image = image.transpose((1, 2, 0))\n",
    "    \n",
    "    # Undo preprocessing\n",
    "    mean = np.array([0.485, 0.456, 0.406])\n",
    "    std = np.array([0.229, 0.224, 0.225])\n",
    "    image = std * image + mean\n",
    "    \n",
    "    # Image needs to be clipped between 0 and 1 or it looks like noise when displayed\n",
    "    image = np.clip(image, 0, 1)\n",
    "    \n",
    "    ax.imshow(image)\n",
    "    \n",
    "    return ax"
   ]
  },
  {
   "cell_type": "code",
   "execution_count": 114,
   "metadata": {},
   "outputs": [
    {
     "data": {
      "text/plain": [
       "<matplotlib.axes._subplots.AxesSubplot at 0x7f7d42536668>"
      ]
     },
     "execution_count": 114,
     "metadata": {},
     "output_type": "execute_result"
    },
    {
     "data": {
      "image/png": "[encoded data removed]",
      "text/plain": [
       "<matplotlib.figure.Figure at 0x7f7d424c8048>"
      ]
     },
     "metadata": {
      "needs_background": "light"
     },
     "output_type": "display_data"
    }
   ],
   "source": [
    "image_path = test_dir + '/37/image_03789.jpg'\n",
    "imshow(process_image(image_path))"
   ]
  },
  {
   "cell_type": "markdown",
   "metadata": {},
   "source": [
    "## Class Prediction\n",
    "\n",
    "Once you can get images in the correct format, it's time to write a function for making predictions with your model. A common practice is to predict the top 5 or so (usually called top-$K$) most probable classes. You'll want to calculate the class probabilities then find the $K$ largest values.\n",
    "\n",
    "To get the top $K$ largest values in a tensor use [`x.topk(k)`](http://pytorch.org/docs/master/torch.html#torch.topk). This method returns both the highest `k` probabilities and the indices of those probabilities corresponding to the classes. You need to convert from these indices to the actual class labels using `class_to_idx` which hopefully you added to the model or from an `ImageFolder` you used to load the data ([see here](#Save-the-checkpoint)). Make sure to invert the dictionary so you get a mapping from index to class as well.\n",
    "\n",
    "Again, this method should take a path to an image and a model checkpoint, then return the probabilities and classes.\n",
    "\n",
    "```python\n",
    "probs, classes = predict(image_path, model)\n",
    "print(probs)\n",
    "print(classes)\n",
    "> [ 0.01558163  0.01541934  0.01452626  0.01443549  0.01407339]\n",
    "> ['70', '3', '45', '62', '55']\n",
    "```"
   ]
  },
  {
   "cell_type": "code",
   "execution_count": 115,
   "metadata": {},
   "outputs": [],
   "source": [
    "def predict(image_path, model, topk=5):\n",
    "    ''' Predict the class (or classes) of an image using a trained deep learning model.\n",
    "    '''\n",
    "    model.eval()\n",
    "    model.cpu()\n",
    "    \n",
    "    image = process_image(image_path)\n",
    "    \n",
    "    tensor = torch.from_numpy(image)\n",
    "    tensor = tensor.unsqueeze(0)\n",
    "    \n",
    "    output = model.forward(Variable(tensor.float(), volatile=True))\n",
    "    \n",
    "    top_prob, top_labels = torch.topk(output, topk)\n",
    "    top_prob = top_prob.exp()\n",
    "    top_prob_array = top_prob.data.numpy()[0]\n",
    "    \n",
    "    inv_class_to_idx = {v: k for k, v in model.class_to_idx.items()}\n",
    "    \n",
    "    top_labels_data = top_labels.data.numpy()\n",
    "    top_labels_list = top_labels_data[0].tolist()  \n",
    "    \n",
    "    top_classes = [inv_class_to_idx[x] for x in top_labels_list]\n",
    "    \n",
    "    return top_prob_array, top_classes"
   ]
  },
  {
   "cell_type": "code",
   "execution_count": 116,
   "metadata": {},
   "outputs": [
    {
     "name": "stderr",
     "output_type": "stream",
     "text": [
      "/opt/conda/lib/python3.6/site-packages/ipykernel_launcher.py:12: UserWarning: volatile was removed and now has no effect. Use `with torch.no_grad():` instead.\n",
      "  if sys.path[0] == '':\n"
     ]
    },
    {
     "name": "stdout",
     "output_type": "stream",
     "text": [
      "[ 0.35766295  0.18607441  0.06815626  0.04398672  0.04236557]\n",
      "['78', '7', '88', '73', '20']\n"
     ]
    }
   ],
   "source": [
    "probs, classes = predict(image_path, model)\n",
    "\n",
    "print(probs)\n",
    "print(classes)"
   ]
  },
  {
   "cell_type": "markdown",
   "metadata": {},
   "source": [
    "## Sanity Checking\n",
    "\n",
    "Now that you can use a trained model for predictions, check to make sure it makes sense. Even if the testing accuracy is high, it's always good to check that there aren't obvious bugs. Use `matplotlib` to plot the probabilities for the top 5 classes as a bar graph, along with the input image. It should look like this:\n",
    "\n",
    "<img src='assets/inference_example.png' width=300px>\n",
    "\n",
    "You can convert from the class integer encoding to actual flower names with the `cat_to_name.json` file (should have been loaded earlier in the notebook). To show a PyTorch tensor as an image, use the `imshow` function defined above."
   ]
  },
  {
   "cell_type": "code",
   "execution_count": 117,
   "metadata": {},
   "outputs": [
    {
     "data": {
      "image/png": "[encoded data removed]",
      "text/plain": [
       "<matplotlib.figure.Figure at 0x7f7d426ac438>"
      ]
     },
     "metadata": {
      "needs_background": "light"
     },
     "output_type": "display_data"
    },
    {
     "data": {
      "image/png": "[encoded data removed]",
      "text/plain": [
       "<matplotlib.figure.Figure at 0x7f7d425f6710>"
      ]
     },
     "metadata": {
      "needs_background": "light"
     },
     "output_type": "display_data"
    }
   ],
   "source": [
    "def check_prediction(image_path):\n",
    "    \n",
    "    reversed_probs = probs[::-1]\n",
    "    reversed_classes = classes[::-1]\n",
    "\n",
    "    class_names = [cat_to_name[x] for x in reversed_classes]\n",
    "\n",
    "    fig, ax = plt.subplots()\n",
    "    display_image = process_image(image_path)\n",
    "    imshow(display_image, ax, class_names[-1])\n",
    "\n",
    "    fig, ax = plt.subplots()\n",
    "\n",
    "    y_pos = np.arange(len(class_names))\n",
    "\n",
    "    plt.barh(y_pos, reversed_probs)\n",
    "    plt.yticks(y_pos, class_names)\n",
    "    plt.xlabel('Probability')\n",
    "    \n",
    "check_prediction(image_path)"
   ]
  },
  {
   "cell_type": "code",
   "execution_count": 118,
   "metadata": {},
   "outputs": [
    {
     "data": {
      "text/plain": [
       "['[NbConvertApp] Converting notebook Image Classifier Project.ipynb to html',\n",
       " '[NbConvertApp] Writing 397217 bytes to Image Classifier Project.html',\n",
       " '[NbConvertApp] Converting notebook Image Classifier Project-zh.ipynb to html',\n",
       " '[NbConvertApp] Writing 295106 bytes to Image Classifier Project-zh.html']"
      ]
     },
     "execution_count": 118,
     "metadata": {},
     "output_type": "execute_result"
    }
   ],
   "source": [
    "!!jupyter nbconvert *.ipynb"
   ]
  },
  {
   "cell_type": "code",
   "execution_count": null,
   "metadata": {},
   "outputs": [],
   "source": []
  },
  {
   "cell_type": "code",
   "execution_count": null,
   "metadata": {},
   "outputs": [],
   "source": []
  }
 ],
 "metadata": {
  "kernelspec": {
   "display_name": "Python 3",
   "language": "python",
   "name": "python3"
  },
  "language_info": {
   "codemirror_mode": {
    "name": "ipython",
    "version": 3
   },
   "file_extension": ".py",
   "mimetype": "text/x-python",
   "name": "python",
   "nbconvert_exporter": "python",
   "pygments_lexer": "ipython3",
   "version": "3.6.3"
  }
 },
 "nbformat": 4,
 "nbformat_minor": 2
}
