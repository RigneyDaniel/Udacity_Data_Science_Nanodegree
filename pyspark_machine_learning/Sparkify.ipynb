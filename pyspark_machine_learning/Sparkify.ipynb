{
 "cells": [
  {
   "cell_type": "markdown",
   "metadata": {},
   "source": [
    "# Sparkify Project Workspace\n",
    "This workspace contains a tiny subset (128MB) of the full dataset available (12GB). Feel free to use this workspace to build your project, or to explore a smaller subset with Spark before deploying your cluster on the cloud. Instructions for setting up your Spark cluster is included in the last lesson of the Extracurricular Spark Course content.\n",
    "\n",
    "You can follow the steps below to guide your data analysis and model building portion of this project."
   ]
  },
  {
   "cell_type": "markdown",
   "metadata": {},
   "source": [
    "# Project Overview"
   ]
  },
  {
   "cell_type": "markdown",
   "metadata": {},
   "source": [
    "This is the capstone project for the Udacity Data Science Nanodegree. The purpose of this assignment is to gain exposure to tools used to manipulate and build machine learning algorithms on large data sets. Specifically, here we use Spark Dataframes and the machine learning API Spark ML."
   ]
  },
  {
   "cell_type": "markdown",
   "metadata": {},
   "source": [
    "**Problem Statement**"
   ]
  },
  {
   "cell_type": "markdown",
   "metadata": {},
   "source": [
    "In this assignment we are working with data from a digital music streaming service. The aim of the project is to be able to predict the 'churn' or probability a user of the service will leave so that we can decide whether to offer the user incentives to stay.\n",
    "The data set contains a number of variables for each user about their status and previous interactions with the platform. Using machine learning algorithms we aim to accurately predict whether a user is likely to cancel their service."
   ]
  },
  {
   "cell_type": "code",
   "execution_count": 1,
   "metadata": {},
   "outputs": [],
   "source": [
    "# import libraries\n",
    "from pyspark.sql import SparkSession, Window\n",
    "from pyspark import SparkFiles\n",
    "from pyspark.sql.functions import avg, col, concat, count, desc, asc, explode, lit, min, max, split, stddev, udf, isnan, when, rank\n",
    "from pyspark.sql.functions import sum as Fsum\n",
    "from pyspark.sql.types import *\n",
    "\n",
    "from pyspark.ml import Pipeline\n",
    "from pyspark.ml.classification import LogisticRegression, RandomForestClassifier, GBTClassifier, DecisionTreeClassifier\n",
    "from pyspark.ml.evaluation import MulticlassClassificationEvaluator\n",
    "from pyspark.mllib.evaluation import MulticlassMetrics\n",
    "\n",
    "from pyspark.ml.feature import  StandardScaler, VectorAssembler\n",
    "from pyspark.ml.tuning import CrossValidator, ParamGridBuilder\n",
    "\n",
    "from time import time\n",
    "import re\n",
    "import numpy as np\n",
    "import scipy\n",
    "import pandas as pd\n",
    "import datetime\n",
    "import matplotlib.pyplot as plt\n",
    "import seaborn as sns\n",
    "import random\n",
    "%matplotlib inline\n",
    "random.seed(42)"
   ]
  },
  {
   "cell_type": "code",
   "execution_count": 2,
   "metadata": {},
   "outputs": [],
   "source": [
    "# create a Spark session\n",
    "spark = SparkSession.builder.master(\"local\").appName(\"Sparkify\").getOrCreate()"
   ]
  },
  {
   "cell_type": "markdown",
   "metadata": {},
   "source": [
    "# Load and Clean Dataset\n",
    "In this workspace, the mini-dataset file is `mini_sparkify_event_data.json`. Load and clean the dataset, checking for invalid or missing data - for example, records without userids or sessionids. "
   ]
  },
  {
   "cell_type": "code",
   "execution_count": 3,
   "metadata": {},
   "outputs": [],
   "source": [
    "path = 'mini_sparkify_event_data.json'\n",
    "df = spark.read.json(path)"
   ]
  },
  {
   "cell_type": "markdown",
   "metadata": {},
   "source": [
    "Check each column for missing or null values."
   ]
  },
  {
   "cell_type": "code",
   "execution_count": 68,
   "metadata": {},
   "outputs": [
    {
     "name": "stdout",
     "output_type": "stream",
     "text": [
      "column artist has 58392 null values and 0 blank strings.\n",
      "column auth has 0 null values and 0 blank strings.\n",
      "column firstName has 8346 null values and 0 blank strings.\n",
      "column gender has 8346 null values and 0 blank strings.\n",
      "column itemInSession has 0 null values and 0 blank strings.\n",
      "column lastName has 8346 null values and 0 blank strings.\n",
      "column length has 58392 null values and 0 blank strings.\n",
      "column level has 0 null values and 0 blank strings.\n",
      "column location has 8346 null values and 0 blank strings.\n",
      "column method has 0 null values and 0 blank strings.\n",
      "column page has 0 null values and 0 blank strings.\n",
      "column registration has 8346 null values and 0 blank strings.\n",
      "column sessionId has 0 null values and 0 blank strings.\n",
      "column song has 58392 null values and 0 blank strings.\n",
      "column status has 0 null values and 0 blank strings.\n",
      "column ts has 0 null values and 0 blank strings.\n",
      "column userAgent has 8346 null values and 0 blank strings.\n",
      "column userId has 0 null values and 8346 blank strings.\n"
     ]
    }
   ],
   "source": [
    "for cols in df.columns:\n",
    "    null_values_count = df.where(df[cols].isNull()).count() \n",
    "    blank_string_count = df.where(df[cols] == \"\").count()\n",
    "    print('column {} has {} null values and {} blank strings.'.format(cols, null_values_count, blank_string_count))"
   ]
  },
  {
   "cell_type": "markdown",
   "metadata": {},
   "source": [
    "Remove rows where either the userId or the sessionId contains a null value or blank strings."
   ]
  },
  {
   "cell_type": "code",
   "execution_count": 69,
   "metadata": {},
   "outputs": [],
   "source": [
    "df = df.dropna(how='any', subset=['userId', 'sessionId'])\n",
    "df = df.where(df['userId'] != \"\")"
   ]
  },
  {
   "cell_type": "code",
   "execution_count": 70,
   "metadata": {},
   "outputs": [
    {
     "name": "stdout",
     "output_type": "stream",
     "text": [
      "column artist has 50046 null values and 0 blank strings.\n",
      "column auth has 0 null values and 0 blank strings.\n",
      "column firstName has 0 null values and 0 blank strings.\n",
      "column gender has 0 null values and 0 blank strings.\n",
      "column itemInSession has 0 null values and 0 blank strings.\n",
      "column lastName has 0 null values and 0 blank strings.\n",
      "column length has 50046 null values and 0 blank strings.\n",
      "column level has 0 null values and 0 blank strings.\n",
      "column location has 0 null values and 0 blank strings.\n",
      "column method has 0 null values and 0 blank strings.\n",
      "column page has 0 null values and 0 blank strings.\n",
      "column registration has 0 null values and 0 blank strings.\n",
      "column sessionId has 0 null values and 0 blank strings.\n",
      "column song has 50046 null values and 0 blank strings.\n",
      "column status has 0 null values and 0 blank strings.\n",
      "column ts has 0 null values and 0 blank strings.\n",
      "column userAgent has 0 null values and 0 blank strings.\n",
      "column userId has 0 null values and 0 blank strings.\n"
     ]
    }
   ],
   "source": [
    "for cols in df.columns:\n",
    "    null_values_count = df.where(df[cols].isNull()).count() \n",
    "    blank_string_count = df.where(df[cols]==\"\").count()\n",
    "    print('column {} has {} null values and {} blank strings.'.format(cols, null_values_count, blank_string_count))"
   ]
  },
  {
   "cell_type": "markdown",
   "metadata": {},
   "source": [
    "Check why we have null values in the artists column. First look at all the unique events pages that have null values then without null values."
   ]
  },
  {
   "cell_type": "code",
   "execution_count": 71,
   "metadata": {},
   "outputs": [
    {
     "name": "stdout",
     "output_type": "stream",
     "text": [
      "+--------------------+\n",
      "|                page|\n",
      "+--------------------+\n",
      "|              Cancel|\n",
      "|    Submit Downgrade|\n",
      "|         Thumbs Down|\n",
      "|                Home|\n",
      "|           Downgrade|\n",
      "|         Roll Advert|\n",
      "|              Logout|\n",
      "|       Save Settings|\n",
      "|Cancellation Conf...|\n",
      "|               About|\n",
      "|            Settings|\n",
      "|     Add to Playlist|\n",
      "|          Add Friend|\n",
      "|           Thumbs Up|\n",
      "|                Help|\n",
      "|             Upgrade|\n",
      "|               Error|\n",
      "|      Submit Upgrade|\n",
      "+--------------------+\n",
      "\n"
     ]
    }
   ],
   "source": [
    "df.where(df['artist'].isNull()).select(df['page']).dropDuplicates().show()"
   ]
  },
  {
   "cell_type": "code",
   "execution_count": 72,
   "metadata": {},
   "outputs": [
    {
     "name": "stdout",
     "output_type": "stream",
     "text": [
      "+--------+\n",
      "|    page|\n",
      "+--------+\n",
      "|NextSong|\n",
      "+--------+\n",
      "\n"
     ]
    }
   ],
   "source": [
    "df.where(df['artist'].isNotNull()).select(df['page']).dropDuplicates().show()"
   ]
  },
  {
   "cell_type": "markdown",
   "metadata": {},
   "source": [
    "All events except page 'NextSong' has null values for the 'Authors' sites. Seems like it is okay to keep these rows."
   ]
  },
  {
   "cell_type": "markdown",
   "metadata": {},
   "source": [
    "# Exploratory Data Analysis\n",
    "When you're working with the full dataset, perform EDA by loading a small subset of the data and doing basic manipulations within Spark. In this workspace, you are already provided a small subset of data you can explore.\n",
    "\n",
    "### Define Churn\n",
    "\n",
    "Once you've done some preliminary analysis, create a column `Churn` to use as the label for your model. I suggest using the `Cancellation Confirmation` events to define your churn, which happen for both paid and free users. As a bonus task, you can also look into the `Downgrade` events.\n",
    "\n",
    "### Explore Data\n",
    "Once you've defined churn, perform some exploratory data analysis to observe the behavior for users who stayed vs users who churned. You can start by exploring aggregates on these two groups of users, observing how much of a specific action they experienced per a certain time unit or number of songs played."
   ]
  },
  {
   "cell_type": "markdown",
   "metadata": {},
   "source": [
    "To get a better picture of what is contained in the dataset, we'll look at the range of values in each column."
   ]
  },
  {
   "cell_type": "code",
   "execution_count": 73,
   "metadata": {},
   "outputs": [
    {
     "name": "stdout",
     "output_type": "stream",
     "text": [
      "root\n",
      " |-- artist: string (nullable = true)\n",
      " |-- auth: string (nullable = true)\n",
      " |-- firstName: string (nullable = true)\n",
      " |-- gender: string (nullable = true)\n",
      " |-- itemInSession: long (nullable = true)\n",
      " |-- lastName: string (nullable = true)\n",
      " |-- length: double (nullable = true)\n",
      " |-- level: string (nullable = true)\n",
      " |-- location: string (nullable = true)\n",
      " |-- method: string (nullable = true)\n",
      " |-- page: string (nullable = true)\n",
      " |-- registration: long (nullable = true)\n",
      " |-- sessionId: long (nullable = true)\n",
      " |-- song: string (nullable = true)\n",
      " |-- status: long (nullable = true)\n",
      " |-- ts: long (nullable = true)\n",
      " |-- userAgent: string (nullable = true)\n",
      " |-- userId: string (nullable = true)\n",
      "\n"
     ]
    }
   ],
   "source": [
    "df.printSchema()"
   ]
  },
  {
   "cell_type": "markdown",
   "metadata": {},
   "source": [
    "Let's look at the categorical columns."
   ]
  },
  {
   "cell_type": "code",
   "execution_count": 74,
   "metadata": {},
   "outputs": [
    {
     "name": "stdout",
     "output_type": "stream",
     "text": [
      "Column artist has 17656 unique values, for example:\n",
      "+--------------------+\n",
      "|              artist|\n",
      "+--------------------+\n",
      "|      The Black Keys|\n",
      "|         Silverstein|\n",
      "|           Kate Nash|\n",
      "|        Yann Tiersen|\n",
      "|    Jane's Addiction|\n",
      "|          Tim Hughes|\n",
      "|          Carl Craig|\n",
      "|Dashboard Confess...|\n",
      "|Yonder Mountain S...|\n",
      "|           Los Lobos|\n",
      "|Pete Rock & C.L. ...|\n",
      "|        Ziggy Marley|\n",
      "|      Jarabe De Palo|\n",
      "|               Rufio|\n",
      "|WC And The Maad C...|\n",
      "|      Jorge Gonzalez|\n",
      "|                Silk|\n",
      "|  The Watts Prophets|\n",
      "|            La Shica|\n",
      "|        Generation X|\n",
      "+--------------------+\n",
      "only showing top 20 rows\n",
      "\n",
      "None\n",
      "Column auth has 2 unique values, for example:\n",
      "+---------+\n",
      "|     auth|\n",
      "+---------+\n",
      "|Cancelled|\n",
      "|Logged In|\n",
      "+---------+\n",
      "\n",
      "None\n",
      "Column gender has 2 unique values, for example:\n",
      "+------+\n",
      "|gender|\n",
      "+------+\n",
      "|     F|\n",
      "|     M|\n",
      "+------+\n",
      "\n",
      "None\n",
      "Column level has 2 unique values, for example:\n",
      "+-----+\n",
      "|level|\n",
      "+-----+\n",
      "| free|\n",
      "| paid|\n",
      "+-----+\n",
      "\n",
      "None\n",
      "Column location has 114 unique values, for example:\n",
      "+--------------------+\n",
      "|            location|\n",
      "+--------------------+\n",
      "|     Gainesville, FL|\n",
      "|Atlantic City-Ham...|\n",
      "|Deltona-Daytona B...|\n",
      "|San Diego-Carlsba...|\n",
      "|Cleveland-Elyria, OH|\n",
      "|Kingsport-Bristol...|\n",
      "|New Haven-Milford...|\n",
      "|Birmingham-Hoover...|\n",
      "|  Corpus Christi, TX|\n",
      "|         Dubuque, IA|\n",
      "|Las Vegas-Henders...|\n",
      "|Indianapolis-Carm...|\n",
      "|Seattle-Tacoma-Be...|\n",
      "|          Albany, OR|\n",
      "|   Winston-Salem, NC|\n",
      "|     Bakersfield, CA|\n",
      "|Los Angeles-Long ...|\n",
      "|Minneapolis-St. P...|\n",
      "|San Francisco-Oak...|\n",
      "|Phoenix-Mesa-Scot...|\n",
      "+--------------------+\n",
      "only showing top 20 rows\n",
      "\n",
      "None\n",
      "Column method has 2 unique values, for example:\n",
      "+------+\n",
      "|method|\n",
      "+------+\n",
      "|   PUT|\n",
      "|   GET|\n",
      "+------+\n",
      "\n",
      "None\n",
      "Column page has 19 unique values, for example:\n",
      "+--------------------+\n",
      "|                page|\n",
      "+--------------------+\n",
      "|              Cancel|\n",
      "|    Submit Downgrade|\n",
      "|         Thumbs Down|\n",
      "|                Home|\n",
      "|           Downgrade|\n",
      "|         Roll Advert|\n",
      "|              Logout|\n",
      "|       Save Settings|\n",
      "|Cancellation Conf...|\n",
      "|               About|\n",
      "|            Settings|\n",
      "|     Add to Playlist|\n",
      "|          Add Friend|\n",
      "|            NextSong|\n",
      "|           Thumbs Up|\n",
      "|                Help|\n",
      "|             Upgrade|\n",
      "|               Error|\n",
      "|      Submit Upgrade|\n",
      "+--------------------+\n",
      "\n",
      "None\n",
      "Column song has 58481 unique values, for example:\n",
      "+--------------------+\n",
      "|                song|\n",
      "+--------------------+\n",
      "|Never Gonna Be Al...|\n",
      "|         TULENLIEKKI|\n",
      "|      Underwaterboys|\n",
      "|Saor (Free)/News ...|\n",
      "|               New E|\n",
      "|The Geeks Were Right|\n",
      "|              Heaven|\n",
      "|      Call Me Manana|\n",
      "|             Push It|\n",
      "|Cool Monsoon (Wea...|\n",
      "|The Fun Lovin' Cr...|\n",
      "|Turn Your Lights ...|\n",
      "|          Growing Up|\n",
      "|          Positivity|\n",
      "|         Miracle Man|\n",
      "|        I'm The Drug|\n",
      "|I've Just Seen A ...|\n",
      "|            Anna May|\n",
      "|All The Things Sh...|\n",
      "|    Blue Suede Shoes|\n",
      "+--------------------+\n",
      "only showing top 20 rows\n",
      "\n",
      "None\n",
      "Column userAgent has 56 unique values, for example:\n",
      "+--------------------+\n",
      "|           userAgent|\n",
      "+--------------------+\n",
      "|\"Mozilla/5.0 (Mac...|\n",
      "|\"Mozilla/5.0 (Win...|\n",
      "|Mozilla/5.0 (X11;...|\n",
      "|\"Mozilla/5.0 (Mac...|\n",
      "|\"Mozilla/5.0 (Mac...|\n",
      "|Mozilla/5.0 (Maci...|\n",
      "|Mozilla/5.0 (Wind...|\n",
      "|Mozilla/5.0 (Wind...|\n",
      "|Mozilla/5.0 (comp...|\n",
      "|\"Mozilla/5.0 (Win...|\n",
      "|Mozilla/5.0 (Maci...|\n",
      "|\"Mozilla/5.0 (Win...|\n",
      "|\"Mozilla/5.0 (iPh...|\n",
      "|\"Mozilla/5.0 (Win...|\n",
      "|Mozilla/5.0 (Wind...|\n",
      "|Mozilla/5.0 (comp...|\n",
      "|Mozilla/5.0 (comp...|\n",
      "|\"Mozilla/5.0 (Mac...|\n",
      "|\"Mozilla/5.0 (Mac...|\n",
      "|\"Mozilla/5.0 (Win...|\n",
      "+--------------------+\n",
      "only showing top 20 rows\n",
      "\n",
      "None\n",
      "Column userId has 225 unique values, for example:\n",
      "+------+\n",
      "|userId|\n",
      "+------+\n",
      "|100010|\n",
      "|200002|\n",
      "|   125|\n",
      "|    51|\n",
      "|   124|\n",
      "|     7|\n",
      "|    54|\n",
      "|    15|\n",
      "|   155|\n",
      "|   132|\n",
      "|   154|\n",
      "|100014|\n",
      "|   101|\n",
      "|    11|\n",
      "|   138|\n",
      "|300017|\n",
      "|    29|\n",
      "|    69|\n",
      "|100021|\n",
      "|    42|\n",
      "+------+\n",
      "only showing top 20 rows\n",
      "\n",
      "None\n"
     ]
    }
   ],
   "source": [
    "category_columns = ['artist', 'auth', 'gender', 'level', 'location', 'method', 'page', 'song', 'userAgent', 'userId']\n",
    "for cols in category_columns:\n",
    "    \n",
    "    unique_count = df.select(df[cols]).dropDuplicates().count()\n",
    "    \n",
    "    print('Column {} has {} unique values, for example:'.format(cols, unique_count))\n",
    "    print(df.select(df[cols]).dropDuplicates().show())"
   ]
  },
  {
   "cell_type": "markdown",
   "metadata": {},
   "source": [
    "Now we will explore the numerical columns."
   ]
  },
  {
   "cell_type": "code",
   "execution_count": 75,
   "metadata": {},
   "outputs": [
    {
     "name": "stdout",
     "output_type": "stream",
     "text": [
      "+-------+------------------+-----------------+------------------+--------------------+\n",
      "|summary|     itemInSession|           length|            status|                  ts|\n",
      "+-------+------------------+-----------------+------------------+--------------------+\n",
      "|  count|            278154|           228108|            278154|              278154|\n",
      "|   mean|114.89918174824018|249.1171819778458|209.10321620397335|1.540958915431871...|\n",
      "| stddev|  129.851729399489|99.23517921058361|30.151388851328214|1.5068287123306298E9|\n",
      "|    min|                 0|          0.78322|               200|       1538352117000|\n",
      "|    max|              1321|       3024.66567|               404|       1543799476000|\n",
      "+-------+------------------+-----------------+------------------+--------------------+\n",
      "\n"
     ]
    }
   ],
   "source": [
    "numerical_columns = ['itemInSession', 'length', 'status', 'ts']\n",
    "\n",
    "df.select(numerical_columns).describe().show()"
   ]
  },
  {
   "cell_type": "markdown",
   "metadata": {},
   "source": [
    "Next create a column for churn."
   ]
  },
  {
   "cell_type": "code",
   "execution_count": 76,
   "metadata": {},
   "outputs": [],
   "source": [
    "churned_users = df.where(df['page'] == \"Cancellation Confirmation\").select(\"userId\").dropDuplicates()\n",
    "churned_users_list = [(row['userId']) for row in churned_users.collect()]\n",
    "churned_df = df.withColumn(\"churned\", df['userId'].isin(churned_users_list))"
   ]
  },
  {
   "cell_type": "markdown",
   "metadata": {},
   "source": [
    "This next section performs explortory data analysis to answer the following questions:\n",
    "- Do males or females churn more often?\n",
    "- Do paid user churn more than free users?\n",
    "- Does location affect users churn rates?\n",
    "- Does the time a user has been active with the product affect churn rate?\n",
    "- Does the use page events affect the churn rate?"
   ]
  },
  {
   "cell_type": "code",
   "execution_count": 77,
   "metadata": {},
   "outputs": [
    {
     "data": {
      "text/plain": [
       "<matplotlib.axes._subplots.AxesSubplot at 0x7fcd04464630>"
      ]
     },
     "execution_count": 77,
     "metadata": {},
     "output_type": "execute_result"
    },
    {
     "data": {
      "image/png": "[encoded data removed]",
      "text/plain": [
       "<matplotlib.figure.Figure at 0x7fcd3b005908>"
      ]
     },
     "metadata": {
      "needs_background": "light"
     },
     "output_type": "display_data"
    }
   ],
   "source": [
    "# Visualise the percent of males and females that churn.\n",
    "\n",
    "num_churned = churned_df.where(churned_df['churned'] == 1).count()\n",
    "num_not_churned = churned_df.where(churned_df['churned'] == 0).count()\n",
    "\n",
    "tmp_churned_df = churned_df.where(churned_df['churned'] == 1).groupby(['gender']).count()\n",
    "tmp_churned_df = tmp_churned_df.withColumn('churned', tmp_churned_df['count'] / num_churned).sort('gender')\n",
    "\n",
    "tmp_not_churned_df = churned_df.where(churned_df['churned'] == 0).groupby(['gender']).count()\n",
    "tmp_not_churned_df = tmp_not_churned_df.withColumn('not_churned', tmp_not_churned_df['count'] / num_not_churned).sort('gender')\n",
    "\n",
    "tmp_df = tmp_churned_df.join(tmp_not_churned_df, 'gender', 'outer').drop('count').fillna(0).toPandas()\n",
    "\n",
    "tmp_df.plot.bar('gender')"
   ]
  },
  {
   "cell_type": "code",
   "execution_count": 78,
   "metadata": {},
   "outputs": [
    {
     "data": {
      "text/plain": [
       "<matplotlib.axes._subplots.AxesSubplot at 0x7fcd018eb978>"
      ]
     },
     "execution_count": 78,
     "metadata": {},
     "output_type": "execute_result"
    },
    {
     "data": {
      "image/png": "[encoded data removed]",
      "text/plain": [
       "<matplotlib.figure.Figure at 0x7fcd0443da58>"
      ]
     },
     "metadata": {
      "needs_background": "light"
     },
     "output_type": "display_data"
    }
   ],
   "source": [
    "# Visualise the percent of free vs page users that churn. \n",
    "num_churned = churned_df.where(churned_df['churned'] == 1).count()\n",
    "num_not_churned = churned_df.where(churned_df['churned'] == 0).count()\n",
    "\n",
    "tmp_churned_df = churned_df.where(churned_df['churned'] == 1).groupby(['level']).count()\n",
    "tmp_churned_df = tmp_churned_df.withColumn('churned', tmp_churned_df['count'] / num_churned).sort('level')\n",
    "\n",
    "tmp_not_churned_df = churned_df.where(churned_df['churned'] == 0).groupby(['level']).count()\n",
    "tmp_not_churned_df = tmp_not_churned_df.withColumn('not_churned', tmp_not_churned_df['count'] / num_not_churned).sort('level')\n",
    "\n",
    "tmp_df = tmp_churned_df.join(tmp_not_churned_df, 'level', 'outer').drop('count').fillna(0).toPandas()\n",
    "\n",
    "tmp_df.plot.bar('level')"
   ]
  },
  {
   "cell_type": "code",
   "execution_count": 79,
   "metadata": {},
   "outputs": [
    {
     "data": {
      "text/plain": [
       "<matplotlib.axes._subplots.AxesSubplot at 0x7fcd018794e0>"
      ]
     },
     "execution_count": 79,
     "metadata": {},
     "output_type": "execute_result"
    },
    {
     "data": {
      "image/png": "[encoded data removed]",
      "text/plain": [
       "<matplotlib.figure.Figure at 0x7fcd018eb4a8>"
      ]
     },
     "metadata": {
      "needs_background": "light"
     },
     "output_type": "display_data"
    }
   ],
   "source": [
    "# Visualise the percent of page events for churned users vs. non-churned users.\n",
    "\n",
    "num_churned = churned_df.where(churned_df['churned'] == 1).count()\n",
    "num_not_churned = churned_df.where(churned_df['churned'] == 0).count()\n",
    "\n",
    "tmp_churned_df = churned_df.where(churned_df['churned'] == 1).groupby(['page']).count()\n",
    "tmp_churned_df = tmp_churned_df.withColumn('pct_events_churned', tmp_churned_df['count'] / num_churned).sort('page')\n",
    "\n",
    "tmp_not_churned_df = churned_df.where(churned_df['churned'] == 0).groupby(['page']).count()\n",
    "tmp_not_churned_df = tmp_not_churned_df.withColumn('pct_events_not_churned', tmp_not_churned_df['count'] / num_not_churned).sort('page')\n",
    "\n",
    "tmp_df = tmp_churned_df.join(tmp_not_churned_df, 'page', 'outer').drop('count').fillna(0).toPandas()\n",
    "\n",
    "tmp_df.plot.bar('page')"
   ]
  },
  {
   "cell_type": "markdown",
   "metadata": {},
   "source": [
    "Plot again, this time excluding page event 'NextSong' as it makes up the majority of events and makes it difficult to see the differences between the other events."
   ]
  },
  {
   "cell_type": "code",
   "execution_count": 80,
   "metadata": {},
   "outputs": [
    {
     "data": {
      "text/plain": [
       "<matplotlib.axes._subplots.AxesSubplot at 0x7fcd0187ab70>"
      ]
     },
     "execution_count": 80,
     "metadata": {},
     "output_type": "execute_result"
    },
    {
     "data": {
      "image/png": "[encoded data removed]",
      "text/plain": [
       "<matplotlib.figure.Figure at 0x7fcd017819b0>"
      ]
     },
     "metadata": {
      "needs_background": "light"
     },
     "output_type": "display_data"
    }
   ],
   "source": [
    "tmp_df = tmp_df[tmp_df['page']!='NextSong']\n",
    "tmp_df.plot.bar('page')"
   ]
  },
  {
   "cell_type": "code",
   "execution_count": 81,
   "metadata": {},
   "outputs": [
    {
     "data": {
      "text/plain": [
       "<matplotlib.axes._subplots.AxesSubplot at 0x7fcd016a3438>"
      ]
     },
     "execution_count": 81,
     "metadata": {},
     "output_type": "execute_result"
    },
    {
     "data": {
      "image/png": "[encoded data removed]",
      "text/plain": [
       "<matplotlib.figure.Figure at 0x7fcd016a3c88>"
      ]
     },
     "metadata": {
      "needs_background": "light"
     },
     "output_type": "display_data"
    }
   ],
   "source": [
    "# Visualise the percent churned users vs. non-churned for users by location.\n",
    "\n",
    "num_churned = churned_df.where(churned_df['churned'] == 1).count()\n",
    "num_not_churned = churned_df.where(churned_df['churned'] == 0).count()\n",
    "\n",
    "tmp_churned_df = churned_df.where(churned_df['churned'] == 1).groupby(['location']).count()\n",
    "tmp_churned_df = tmp_churned_df.withColumn('pct_events_churned', tmp_churned_df['count'] / num_churned).sort('location')\n",
    "\n",
    "tmp_not_churned_df = churned_df.where(churned_df['churned'] == 0).groupby(['location']).count()\n",
    "tmp_not_churned_df = tmp_not_churned_df.withColumn('pct_events_not_churned', tmp_not_churned_df['count'] / num_not_churned).sort('location')\n",
    "\n",
    "tmp_df = tmp_churned_df.join(tmp_not_churned_df, 'location', 'outer').drop('count').fillna(0).toPandas()\n",
    "\n",
    "tmp_df.plot.bar('location')"
   ]
  },
  {
   "cell_type": "markdown",
   "metadata": {},
   "source": [
    "# Feature Engineering\n",
    "Once you've familiarized yourself with the data, build out the features you find promising to train your model on. To work with the full dataset, you can follow the following steps.\n",
    "- Write a script to extract the necessary features from the smaller subset of data\n",
    "- Ensure that your script is scalable, using the best practices discussed in Lesson 3\n",
    "- Try your script on the full data set, debugging your script if necessary\n",
    "\n",
    "If you are working in the classroom workspace, you can just extract features based on the small subset of data contained here. Be sure to transfer over this work to the larger dataset when you work on your Spark cluster."
   ]
  },
  {
   "cell_type": "markdown",
   "metadata": {},
   "source": [
    "\n",
    "Label: Churn is defined by the page is 'cancellation confirmation'. \n",
    "\n",
    "Feature 1: Measured as the time since registration in days.\n",
    "Feature 2: Measured as the user's gender.\n",
    "Feature 3: Meausred as whether the user was most recently paying or using the product for free.\n",
    "Feature 4: Measured as the number of sessions\n",
    "Feature 5: Measured as the number of songs listened to.\n",
    "Feature 6: Measured as the average time per session. \n",
    "Feature 7: Measured by the number of 'Thumbs Up' pages.\n",
    "Feature 8: Measured by the number of 'Thumbs Down' pages.\n",
    "Feature 9: Measured by the number of 'Add to Playlist' pages. \n",
    "Feature 10: Measured by the number of 'Add Friend' pages.\n",
    "Feature 11: Measured by the number of 'NextSong' pages."
   ]
  },
  {
   "cell_type": "code",
   "execution_count": 82,
   "metadata": {},
   "outputs": [
    {
     "name": "stdout",
     "output_type": "stream",
     "text": [
      "root\n",
      " |-- artist: string (nullable = true)\n",
      " |-- auth: string (nullable = true)\n",
      " |-- firstName: string (nullable = true)\n",
      " |-- gender: string (nullable = true)\n",
      " |-- itemInSession: long (nullable = true)\n",
      " |-- lastName: string (nullable = true)\n",
      " |-- length: double (nullable = true)\n",
      " |-- level: string (nullable = true)\n",
      " |-- location: string (nullable = true)\n",
      " |-- method: string (nullable = true)\n",
      " |-- page: string (nullable = true)\n",
      " |-- registration: long (nullable = true)\n",
      " |-- sessionId: long (nullable = true)\n",
      " |-- song: string (nullable = true)\n",
      " |-- status: long (nullable = true)\n",
      " |-- ts: long (nullable = true)\n",
      " |-- userAgent: string (nullable = true)\n",
      " |-- userId: string (nullable = true)\n",
      "\n"
     ]
    }
   ],
   "source": [
    "df.printSchema()"
   ]
  },
  {
   "cell_type": "code",
   "execution_count": 83,
   "metadata": {},
   "outputs": [
    {
     "name": "stdout",
     "output_type": "stream",
     "text": [
      "(277, 2)\n"
     ]
    }
   ],
   "source": [
    "# User churned or not.\n",
    "#churned_users = df.where(df.page==\"Cancellation Confirmation\").select(\"userId\").dropDuplicates()\n",
    "#churned_users_list = [(row['userId']) for row in churned_users.collect()]\n",
    "#df = df.withColumn(\"churned\", df['userId'].isin(churned_users_list))\n",
    "\n",
    "churned_users = udf(lambda x: 1 if x == 'Cancellation Confirmation' else 0, IntegerType())\n",
    "df = df.withColumn('churned', churned_users('page'))\n",
    "\n",
    "label = df.select('userId', 'churned').dropDuplicates().withColumnRenamed('churned', 'label')\n",
    "print((label.count(), len(label.columns)))"
   ]
  },
  {
   "cell_type": "code",
   "execution_count": 84,
   "metadata": {},
   "outputs": [
    {
     "name": "stdout",
     "output_type": "stream",
     "text": [
      "(225, 2)\n"
     ]
    }
   ],
   "source": [
    "# Time since user registered.\n",
    "feature1 = df.select('userId','registration','ts').withColumn('lifetime',(df['ts'] - df['registration'])).groupBy('userId').agg({'lifetime':'max'}).withColumnRenamed('max(lifetime)','lifetime').select('userId', 'lifetime')\n",
    "print((feature1.count(), len(feature1.columns)))"
   ]
  },
  {
   "cell_type": "code",
   "execution_count": 85,
   "metadata": {},
   "outputs": [
    {
     "name": "stdout",
     "output_type": "stream",
     "text": [
      "(225, 2)\n"
     ]
    }
   ],
   "source": [
    "# Gender\n",
    "feature2 = df.select('userId', 'gender').dropDuplicates().replace(['F', 'M'], ['0', '1'], 'gender').select('userId', col('gender').cast('int'))\n",
    "print((feature2.count(), len(feature2.columns)))"
   ]
  },
  {
   "cell_type": "code",
   "execution_count": 86,
   "metadata": {},
   "outputs": [
    {
     "name": "stdout",
     "output_type": "stream",
     "text": [
      "(225, 2)\n"
     ]
    }
   ],
   "source": [
    "levels_converter = udf(lambda x: 1 if x == \"paid\" else 0, IntegerType())\n",
    "feature3 = df.select(['userId', 'level', 'ts']).orderBy(desc('ts')).dropDuplicates(['userId']).select(['userId', 'level']).withColumn('level', levels_converter('level').cast(IntegerType()))\n",
    "print((feature3.count(), len(feature3.columns)))"
   ]
  },
  {
   "cell_type": "code",
   "execution_count": 87,
   "metadata": {},
   "outputs": [
    {
     "name": "stdout",
     "output_type": "stream",
     "text": [
      "(225, 2)\n"
     ]
    }
   ],
   "source": [
    "# Number of sessions\n",
    "feature4 = df.select('UserId', 'sessionId').groupBy('userId').count().withColumnRenamed('count', 'number_sessions')\n",
    "print((feature4.count(), len(feature4.columns)))"
   ]
  },
  {
   "cell_type": "code",
   "execution_count": 88,
   "metadata": {},
   "outputs": [
    {
     "name": "stdout",
     "output_type": "stream",
     "text": [
      "(225, 2)\n"
     ]
    }
   ],
   "source": [
    "# Number of songs listened to.\n",
    "feature5 = df.select('userId','song').groupBy('userId').count().withColumnRenamed('count', 'number_songs')\n",
    "print((feature5.count(), len(feature5.columns)))"
   ]
  },
  {
   "cell_type": "code",
   "execution_count": 89,
   "metadata": {},
   "outputs": [
    {
     "name": "stdout",
     "output_type": "stream",
     "text": [
      "(225, 2)\n"
     ]
    }
   ],
   "source": [
    "# Average time per session.\n",
    "feature6 = df.groupby(['userId']).agg({'length':'avg'}).withColumnRenamed('avg(length)', 'average_time_per_session')\n",
    "print((feature6.count(), len(feature6.columns)))"
   ]
  },
  {
   "cell_type": "code",
   "execution_count": 90,
   "metadata": {},
   "outputs": [
    {
     "name": "stdout",
     "output_type": "stream",
     "text": [
      "(220, 2)\n"
     ]
    }
   ],
   "source": [
    "# Number of pages equal to 'thumbs-up'.\n",
    "feature7 = df.select('userId','page').where(df['page'] == 'Thumbs Up').groupBy('userId').count().withColumnRenamed('count', 'number_thumbs_up') \n",
    "print((feature7.count(), len(feature7.columns)))"
   ]
  },
  {
   "cell_type": "code",
   "execution_count": 91,
   "metadata": {},
   "outputs": [
    {
     "name": "stdout",
     "output_type": "stream",
     "text": [
      "(203, 2)\n"
     ]
    }
   ],
   "source": [
    "# Number of pages equal to 'thumbs-down'\n",
    "feature8 = df.select('userId','page').where(df['page'] == 'Thumbs Down').groupBy('userId').count().withColumnRenamed('count', 'number_thumbs_down')\n",
    "print((feature8.count(), len(feature8.columns)))"
   ]
  },
  {
   "cell_type": "code",
   "execution_count": 92,
   "metadata": {},
   "outputs": [
    {
     "name": "stdout",
     "output_type": "stream",
     "text": [
      "(215, 2)\n"
     ]
    }
   ],
   "source": [
    "# Number of 'Add to Playlist' pages. \n",
    "feature9 = df.select('userId','page').where(df['page'] == 'Add to Playlist').groupBy('userId').count().withColumnRenamed('count', 'number_add_to_playlist')\n",
    "print((feature9.count(), len(feature9.columns)))"
   ]
  },
  {
   "cell_type": "code",
   "execution_count": 93,
   "metadata": {},
   "outputs": [
    {
     "name": "stdout",
     "output_type": "stream",
     "text": [
      "(206, 2)\n"
     ]
    }
   ],
   "source": [
    "# Number of 'Add Friend' pages. \n",
    "feature10 = df.select('userId', 'page').where(df['page'] == 'Add Friend').groupBy('userId').count().withColumnRenamed('count', 'number_add_friend') \n",
    "print((feature10.count(), len(feature10.columns)))"
   ]
  },
  {
   "cell_type": "code",
   "execution_count": 94,
   "metadata": {},
   "outputs": [
    {
     "name": "stdout",
     "output_type": "stream",
     "text": [
      "(225, 2)\n"
     ]
    }
   ],
   "source": [
    "# number of 'NextSong' pages.\n",
    "feature11 =  df.select('userId', 'page').where(df['page'] == 'NextSong').groupby('userId').count().withColumnRenamed('count', 'number_next_songs')\n",
    "print((feature11.count(), len(feature11.columns)))"
   ]
  },
  {
   "cell_type": "code",
   "execution_count": 95,
   "metadata": {},
   "outputs": [
    {
     "name": "stdout",
     "output_type": "stream",
     "text": [
      "+-----+----------+------+-----+---------------+------------+------------------------+----------------+------------------+----------------------+-----------------+-----------------+\n",
      "|label|  lifetime|gender|level|number_sessions|number_songs|average_time_per_session|number_thumbs_up|number_thumbs_down|number_add_to_playlist|number_add_friend|number_next_songs|\n",
      "+-----+----------+------+-----+---------------+------------+------------------------+----------------+------------------+----------------------+-----------------+-----------------+\n",
      "|    0|4807612000|     0|    0|            381|         381|        243.421444909091|              17|                 5|                     7|                4|              275|\n",
      "|    0|6054448000|     1|    1|            474|         474|      242.91699209302305|              21|                 6|                     8|                4|              387|\n",
      "|    1|6161779000|     1|    0|             11|          11|      261.13913750000006|               0|                 0|                     0|                0|                8|\n",
      "+-----+----------+------+-----+---------------+------------+------------------------+----------------+------------------+----------------------+-----------------+-----------------+\n",
      "only showing top 3 rows\n",
      "\n"
     ]
    }
   ],
   "source": [
    "feature_data = label.join(feature1,'userId','outer') \\\n",
    "    .join(feature2, 'userId', 'outer') \\\n",
    "    .join(feature3,'userId','outer') \\\n",
    "    .join(feature4,'userId','outer') \\\n",
    "    .join(feature5,'userId','outer') \\\n",
    "    .join(feature6,'userId','outer') \\\n",
    "    .join(feature7,'userId','outer') \\\n",
    "    .join(feature8,'userId','outer') \\\n",
    "    .join(feature9,'userId','outer') \\\n",
    "    .join(feature10,'userId','outer') \\\n",
    "    .join(feature11,'userId','outer') \\\n",
    "    .drop('userId') \\\n",
    "    .fillna(0)\n",
    "\n",
    "feature_data.show(3)"
   ]
  },
  {
   "cell_type": "code",
   "execution_count": 96,
   "metadata": {},
   "outputs": [
    {
     "name": "stdout",
     "output_type": "stream",
     "text": [
      "(277, 12)\n"
     ]
    }
   ],
   "source": [
    "print((feature_data.count(), len(feature_data.columns)))"
   ]
  },
  {
   "cell_type": "code",
   "execution_count": 97,
   "metadata": {},
   "outputs": [
    {
     "name": "stdout",
     "output_type": "stream",
     "text": [
      "root\n",
      " |-- label: integer (nullable = true)\n",
      " |-- lifetime: long (nullable = true)\n",
      " |-- gender: integer (nullable = true)\n",
      " |-- level: integer (nullable = true)\n",
      " |-- number_sessions: long (nullable = true)\n",
      " |-- number_songs: long (nullable = true)\n",
      " |-- average_time_per_session: double (nullable = false)\n",
      " |-- number_thumbs_up: long (nullable = true)\n",
      " |-- number_thumbs_down: long (nullable = true)\n",
      " |-- number_add_to_playlist: long (nullable = true)\n",
      " |-- number_add_friend: long (nullable = true)\n",
      " |-- number_next_songs: long (nullable = true)\n",
      "\n"
     ]
    }
   ],
   "source": [
    "feature_data.printSchema()"
   ]
  },
  {
   "cell_type": "code",
   "execution_count": 98,
   "metadata": {},
   "outputs": [],
   "source": [
    "# Save the feature data.\n",
    "file_path = 'clean_data2.csv'\n",
    "feature_data.write.save(file_path, format = \"csv\", header = True)"
   ]
  },
  {
   "cell_type": "markdown",
   "metadata": {},
   "source": [
    "# Modeling\n",
    "Split the full dataset into train, test, and validation sets. Test out several of the machine learning methods you learned. Evaluate the accuracy of the various models, tuning parameters as necessary. Determine your winning model based on test accuracy and report results on the validation set. Since the churned users are a fairly small subset, I suggest using F1 score as the metric to optimize."
   ]
  },
  {
   "cell_type": "code",
   "execution_count": 3,
   "metadata": {},
   "outputs": [
    {
     "data": {
      "text/plain": [
       "DataFrame[label: string, lifetime: string, gender: string, level: string, number_sessions: string, number_songs: string, average_time_per_session: string, number_thumbs_up: string, number_thumbs_down: string, number_add_to_playlist: string, number_add_friend: string, number_next_songs: string]"
      ]
     },
     "execution_count": 3,
     "metadata": {},
     "output_type": "execute_result"
    }
   ],
   "source": [
    "# Load in the feature data.\n",
    "file_path = 'clean_data2.csv'\n",
    "feature_data = spark.read.csv(file_path, header=True)\n",
    "feature_data.persist()"
   ]
  },
  {
   "cell_type": "code",
   "execution_count": 4,
   "metadata": {},
   "outputs": [
    {
     "name": "stdout",
     "output_type": "stream",
     "text": [
      "root\n",
      " |-- label: string (nullable = true)\n",
      " |-- lifetime: string (nullable = true)\n",
      " |-- gender: string (nullable = true)\n",
      " |-- level: string (nullable = true)\n",
      " |-- number_sessions: string (nullable = true)\n",
      " |-- number_songs: string (nullable = true)\n",
      " |-- average_time_per_session: string (nullable = true)\n",
      " |-- number_thumbs_up: string (nullable = true)\n",
      " |-- number_thumbs_down: string (nullable = true)\n",
      " |-- number_add_to_playlist: string (nullable = true)\n",
      " |-- number_add_friend: string (nullable = true)\n",
      " |-- number_next_songs: string (nullable = true)\n",
      "\n"
     ]
    }
   ],
   "source": [
    "feature_data.printSchema()"
   ]
  },
  {
   "cell_type": "code",
   "execution_count": 5,
   "metadata": {},
   "outputs": [
    {
     "name": "stdout",
     "output_type": "stream",
     "text": [
      "root\n",
      " |-- label: float (nullable = true)\n",
      " |-- lifetime: float (nullable = true)\n",
      " |-- gender: float (nullable = true)\n",
      " |-- level: float (nullable = true)\n",
      " |-- number_sessions: float (nullable = true)\n",
      " |-- number_songs: float (nullable = true)\n",
      " |-- average_time_per_session: float (nullable = true)\n",
      " |-- number_thumbs_up: float (nullable = true)\n",
      " |-- number_thumbs_down: float (nullable = true)\n",
      " |-- number_add_to_playlist: float (nullable = true)\n",
      " |-- number_add_friend: float (nullable = true)\n",
      " |-- number_next_songs: float (nullable = true)\n",
      "\n"
     ]
    }
   ],
   "source": [
    "# Ensure all features are numerics.\n",
    "def convertColumn(df, names, newType):\n",
    "    for name in names: \n",
    "        df = df.withColumn(name, df[name].cast(newType))\n",
    "    return df \n",
    "\n",
    "columns = ['label', 'lifetime',\n",
    " 'gender',\n",
    " 'level',\n",
    " 'number_sessions',\n",
    " 'number_songs',\n",
    " 'average_time_per_session',\n",
    " 'number_thumbs_up',\n",
    " 'number_thumbs_down',\n",
    " 'number_add_to_playlist',\n",
    " 'number_add_friend',\n",
    " 'number_next_songs']\n",
    "\n",
    "feature_data = convertColumn(feature_data, columns, FloatType())    \n",
    "    \n",
    "feature_data.printSchema()"
   ]
  },
  {
   "cell_type": "code",
   "execution_count": 6,
   "metadata": {},
   "outputs": [],
   "source": [
    "# Vectorize the feature data.\n",
    "feature_columns = ['lifetime',\n",
    " 'gender',\n",
    " 'level',\n",
    " 'number_sessions',\n",
    " 'number_songs',\n",
    " 'average_time_per_session',\n",
    " 'number_thumbs_up',\n",
    " 'number_thumbs_down',\n",
    " 'number_add_to_playlist',\n",
    " 'number_add_friend',\n",
    " 'number_next_songs']\n",
    "\n",
    "assembler = VectorAssembler(inputCols=feature_columns, outputCol=\"features\")\n",
    "feature_data = assembler.transform(feature_data)"
   ]
  },
  {
   "cell_type": "code",
   "execution_count": 7,
   "metadata": {},
   "outputs": [],
   "source": [
    "# Standardise features.\n",
    "scaler = StandardScaler(inputCol = 'features', outputCol = 'scaled_features', withStd = True)\n",
    "scalerModel = scaler.fit(feature_data)\n",
    "feature_data = scalerModel.transform(feature_data)"
   ]
  },
  {
   "cell_type": "code",
   "execution_count": 8,
   "metadata": {},
   "outputs": [],
   "source": [
    "# Split feature data into train, test and validate datasets.\n",
    "train_data, test_data = feature_data.randomSplit([0.6, 0.4], seed=1234)"
   ]
  },
  {
   "cell_type": "markdown",
   "metadata": {},
   "source": [
    "# Evaluation Metrics"
   ]
  },
  {
   "cell_type": "code",
   "execution_count": 9,
   "metadata": {},
   "outputs": [],
   "source": [
    "def evaluate_model(prediction, classifier_name):\n",
    "    \n",
    "    evaluator = MulticlassClassificationEvaluator(predictionCol = 'prediction', labelCol = 'label')\n",
    "    \n",
    "    evaluation_metrics = {}\n",
    "    evaluation_metrics['Classifier'] = classifier_name\n",
    "    evaluation_metrics['F1 Score'] = round(evaluator.evaluate(prediction, {evaluator.metricName: 'f1'}), 3)\n",
    "    evaluation_metrics['Accuracy'] = round(evaluator.evaluate(prediction, {evaluator.metricName: 'accuracy'}), 3)\n",
    "    evaluation_metrics['Precision'] = round(evaluator.evaluate(prediction, {evaluator.metricName: 'weightedPrecision'}), 3)\n",
    "    evaluation_metrics['Recall'] = round(evaluator.evaluate(prediction, {evaluator.metricName: 'weightedRecall'}), 3)\n",
    "    \n",
    "    metrics = spark.createDataFrame(pd.DataFrame([evaluation_metrics], columns = evaluation_metrics.keys()))\n",
    "    \n",
    "    return metrics"
   ]
  },
  {
   "cell_type": "markdown",
   "metadata": {},
   "source": [
    "**Naive Classifier**"
   ]
  },
  {
   "cell_type": "markdown",
   "metadata": {},
   "source": [
    "Baseline Model\n",
    "- Since the 81% of users in the dataset did not churn, testing a naive model that just predicts all users will not churn would have an accuracy of 81%. \n",
    "- This is not a good evaluation metrics as it would have a of false positives and a low precision.\n",
    "- Therefore, we will use the F1-score as our evaluation metric.\n",
    "- The F1-score incorporates both the recall and precision in the model.\n",
    "- Where precision measures the proportion of predicted churned users are actually churned.\n",
    "- And recall measure the proportion of actual churned users that are correctly predicted. \n",
    "- We will use the naive model as our baseline model to assess the performance of other models."
   ]
  },
  {
   "cell_type": "code",
   "execution_count": 10,
   "metadata": {},
   "outputs": [
    {
     "name": "stdout",
     "output_type": "stream",
     "text": [
      "+----------+--------+--------+---------+------+\n",
      "|Classifier|F1 Score|Accuracy|Precision|Recall|\n",
      "+----------+--------+--------+---------+------+\n",
      "|     naive|    0.73|   0.814|    0.663| 0.814|\n",
      "+----------+--------+--------+---------+------+\n",
      "\n"
     ]
    }
   ],
   "source": [
    "prediction = train_data.select(\"label\").withColumn(\"prediction\", lit(0.0))\n",
    "\n",
    "naive_metrics = evaluate_model(prediction = prediction, classifier_name='naive')\n",
    "naive_metrics.show()"
   ]
  },
  {
   "cell_type": "markdown",
   "metadata": {},
   "source": [
    "Next we test several classfiers includeing the Random Forest, Logistic Regression, Decision Tree and Gradient Boosting Tree."
   ]
  },
  {
   "cell_type": "markdown",
   "metadata": {},
   "source": [
    "**Decision Tree**"
   ]
  },
  {
   "cell_type": "code",
   "execution_count": 18,
   "metadata": {},
   "outputs": [],
   "source": [
    "dt = DecisionTreeClassifier(labelCol=\"label\", featuresCol=\"scaled_features\", predictionCol=\"prediction\")\n",
    "\n",
    "paramGrid_dt = ParamGridBuilder() \\\n",
    "    .addGrid(dt.impurity,['entropy', 'gini']) \\\n",
    "    .addGrid(dt.maxDepth,[2, 4, 8]) \\\n",
    "    .build()\n",
    "\n",
    "crossval_dt = CrossValidator(estimator = dt,\n",
    "                      estimatorParamMaps = paramGrid_dt,\n",
    "                      evaluator = MulticlassClassificationEvaluator(metricName='f1'),\n",
    "                      numFolds = 3)\n",
    "\n",
    "cvModel_dt = crossval_dt.fit(train_data)\n",
    "\n",
    "prediction_dt = cvModel_dt.transform(test_data)\n",
    "metrics_dt = evaluate_model(prediction = prediction_dt, classifier_name = 'Decision Tree')\n",
    "\n",
    "prediction_dt_train = cvModel_dt.transform(train_data)\n",
    "metrics_dt_train = evaluate_model(prediction = prediction_dt_train, classifier_name = 'Decision Tree')"
   ]
  },
  {
   "cell_type": "markdown",
   "metadata": {},
   "source": [
    "**Random Forest**"
   ]
  },
  {
   "cell_type": "code",
   "execution_count": 19,
   "metadata": {},
   "outputs": [],
   "source": [
    "rf = RandomForestClassifier(labelCol=\"label\", featuresCol=\"scaled_features\")\n",
    "\n",
    "paramGrid_rf = ParamGridBuilder() \\\n",
    "    .addGrid(rf.numTrees, [5, 10]) \\\n",
    "    .addGrid(rf.maxDepth, [5, 10, 20]) \\\n",
    "    .build()\n",
    "\n",
    "crossval_rf = CrossValidator(estimator = rf,\n",
    "                      estimatorParamMaps = paramGrid_rf,\n",
    "                      evaluator = MulticlassClassificationEvaluator(metricName='f1'),\n",
    "                      numFolds = 3)\n",
    "\n",
    "cvModel_rf = crossval_rf.fit(train_data)\n",
    "\n",
    "prediction_rf = cvModel_rf.transform(test_data)\n",
    "\n",
    "metrics_rf = evaluate_model(prediction = prediction_rf, classifier_name = 'Random Forest')\n",
    "\n",
    "\n",
    "prediction_rf_train = cvModel_rf.transform(train_data)\n",
    "metrics_rf_train = evaluate_model(prediction = prediction_rf_train, classifier_name = 'Random Forest')"
   ]
  },
  {
   "cell_type": "markdown",
   "metadata": {},
   "source": [
    "**Gradient Boosting Tree**"
   ]
  },
  {
   "cell_type": "code",
   "execution_count": 20,
   "metadata": {},
   "outputs": [],
   "source": [
    "gb = GBTClassifier(labelCol=\"label\", featuresCol=\"scaled_features\")\n",
    "\n",
    "paramGrid_gb = ParamGridBuilder() \\\n",
    "    .addGrid(gb.maxIter, [5, 10]) \\\n",
    "    .addGrid(gb.maxDepth, [2, 4, 8]) \\\n",
    "    .build()\n",
    "\n",
    "crossval_gb = CrossValidator(estimator = gb,\n",
    "                      estimatorParamMaps = paramGrid_gb,\n",
    "                      evaluator = MulticlassClassificationEvaluator(metricName='f1'),\n",
    "                      numFolds = 3)\n",
    "\n",
    "cvModel_gb = crossval_gb.fit(train_data)\n",
    "\n",
    "# Evaluate the classifier on the test data.\n",
    "prediction_gb = cvModel_gb.transform(test_data)\n",
    "\n",
    "metrics_gb = evaluate_model(prediction = prediction_gb, classifier_name = 'Gradient Boosting')\n",
    "\n",
    "# Evaluate the classifier on the training data.\n",
    "prediction_gb_train = cvModel_gb.transform(train_data)\n",
    "metrics_gb_train = evaluate_model(prediction = prediction_gb_train, classifier_name = 'Gradient Boosting')"
   ]
  },
  {
   "cell_type": "markdown",
   "metadata": {},
   "source": [
    "# Results"
   ]
  },
  {
   "cell_type": "markdown",
   "metadata": {},
   "source": [
    "**Model Evaluation and Validation**\n",
    "In this section we will look at the performance of each of the classifiers both on the training set and the test set. We also analyse the feature importance for each of the difference classifiers and dicuss the improvement of the hyperparameter tuning."
   ]
  },
  {
   "cell_type": "markdown",
   "metadata": {},
   "source": [
    "**Classifier performance on training data**"
   ]
  },
  {
   "cell_type": "code",
   "execution_count": 26,
   "metadata": {},
   "outputs": [
    {
     "name": "stdout",
     "output_type": "stream",
     "text": [
      "+-----------------+--------+--------+---------+------+\n",
      "|       Classifier|F1 Score|Accuracy|Precision|Recall|\n",
      "+-----------------+--------+--------+---------+------+\n",
      "|            naive|    0.73|   0.814|    0.663| 0.814|\n",
      "|    Decision Tree|   0.757|   0.826|    0.856| 0.826|\n",
      "|    Random Forest|    0.86|   0.872|    0.862| 0.872|\n",
      "|Gradient Boosting|   0.757|   0.826|    0.856| 0.826|\n",
      "+-----------------+--------+--------+---------+------+\n",
      "\n"
     ]
    }
   ],
   "source": [
    "aggregate_train = naive_metrics.union(metrics_dt_train)\n",
    "aggregate_train = aggregate_train.union(metrics_rf_train)\n",
    "aggregate_train = aggregate_train.union(metrics_gb_train)\n",
    "\n",
    "aggregate_train.show()"
   ]
  },
  {
   "cell_type": "markdown",
   "metadata": {},
   "source": [
    "The Random Forest classifier performs best across all measures, it has the highest F1-Score and improves upon the recall and precision of the Naive model significantly.\n",
    "\n",
    "The Decision Tree and Gradient Boosting Tree also improve on the Naive model. Interestingly the results are exactly the same. There doesn't appear to be an error in my code, so it might be the dataset is not large enough to benefit from the Gradient Boosting?!"
   ]
  },
  {
   "cell_type": "markdown",
   "metadata": {},
   "source": [
    "**Classifier on the test data**"
   ]
  },
  {
   "cell_type": "code",
   "execution_count": 27,
   "metadata": {},
   "outputs": [
    {
     "name": "stdout",
     "output_type": "stream",
     "text": [
      "+-----------------+--------+--------+---------+------+\n",
      "|       Classifier|F1 Score|Accuracy|Precision|Recall|\n",
      "+-----------------+--------+--------+---------+------+\n",
      "|            naive|    0.73|   0.814|    0.663| 0.814|\n",
      "|    Decision Tree|   0.724|   0.781|    0.694| 0.781|\n",
      "|    Random Forest|   0.659|   0.686|    0.634| 0.686|\n",
      "|Gradient Boosting|   0.724|   0.781|    0.694| 0.781|\n",
      "+-----------------+--------+--------+---------+------+\n",
      "\n"
     ]
    }
   ],
   "source": [
    "aggregate = naive_metrics.union(metrics_dt)\n",
    "aggregate = aggregate.union(metrics_rf)\n",
    "aggregate = aggregate.union(metrics_gb)\n",
    "\n",
    "aggregate.show()"
   ]
  },
  {
   "cell_type": "markdown",
   "metadata": {},
   "source": [
    "The Random Forest classifier performs poorly out-of-sample and has the worst performance measures out of all the models. \n",
    "\n",
    "Even the Decision Tree and Gradient Boosting Tree are worse than the naive model. And again the results of the two classifiers are exactly the same, which leads me to believe one is erroroneous."
   ]
  },
  {
   "cell_type": "markdown",
   "metadata": {},
   "source": [
    "**Hyperparameter Tuning**"
   ]
  },
  {
   "cell_type": "code",
   "execution_count": 28,
   "metadata": {},
   "outputs": [],
   "source": [
    "def get_hyperparameters_metrics(cvModel):\n",
    "    params = [{p.name: v for p, v in m.items()} for m in cvModel.getEstimatorParamMaps()]\n",
    "\n",
    "    hyperparameters = pd.DataFrame.from_dict([{cvModel.getEvaluator().getMetricName(): metric, **ps} \n",
    "        for ps, metric in zip(params, cvModel.avgMetrics)])\n",
    "\n",
    "    return hyperparameters"
   ]
  },
  {
   "cell_type": "code",
   "execution_count": 29,
   "metadata": {},
   "outputs": [
    {
     "name": "stdout",
     "output_type": "stream",
     "text": [
      "Gradient Boosting Tree Hyperparameters\n"
     ]
    },
    {
     "data": {
      "text/html": [
       "<div>\n",
       "<style scoped>\n",
       "    .dataframe tbody tr th:only-of-type {\n",
       "        vertical-align: middle;\n",
       "    }\n",
       "\n",
       "    .dataframe tbody tr th {\n",
       "        vertical-align: top;\n",
       "    }\n",
       "\n",
       "    .dataframe thead th {\n",
       "        text-align: right;\n",
       "    }\n",
       "</style>\n",
       "<table border=\"1\" class=\"dataframe\">\n",
       "  <thead>\n",
       "    <tr style=\"text-align: right;\">\n",
       "      <th></th>\n",
       "      <th>f1</th>\n",
       "      <th>maxDepth</th>\n",
       "      <th>maxIter</th>\n",
       "    </tr>\n",
       "  </thead>\n",
       "  <tbody>\n",
       "    <tr>\n",
       "      <th>0</th>\n",
       "      <td>0.715724</td>\n",
       "      <td>2</td>\n",
       "      <td>5</td>\n",
       "    </tr>\n",
       "    <tr>\n",
       "      <th>1</th>\n",
       "      <td>0.694737</td>\n",
       "      <td>4</td>\n",
       "      <td>5</td>\n",
       "    </tr>\n",
       "    <tr>\n",
       "      <th>2</th>\n",
       "      <td>0.650318</td>\n",
       "      <td>8</td>\n",
       "      <td>5</td>\n",
       "    </tr>\n",
       "    <tr>\n",
       "      <th>3</th>\n",
       "      <td>0.712273</td>\n",
       "      <td>2</td>\n",
       "      <td>10</td>\n",
       "    </tr>\n",
       "    <tr>\n",
       "      <th>4</th>\n",
       "      <td>0.670035</td>\n",
       "      <td>4</td>\n",
       "      <td>10</td>\n",
       "    </tr>\n",
       "    <tr>\n",
       "      <th>5</th>\n",
       "      <td>0.655879</td>\n",
       "      <td>8</td>\n",
       "      <td>10</td>\n",
       "    </tr>\n",
       "  </tbody>\n",
       "</table>\n",
       "</div>"
      ],
      "text/plain": [
       "         f1  maxDepth  maxIter\n",
       "0  0.715724         2        5\n",
       "1  0.694737         4        5\n",
       "2  0.650318         8        5\n",
       "3  0.712273         2       10\n",
       "4  0.670035         4       10\n",
       "5  0.655879         8       10"
      ]
     },
     "execution_count": 29,
     "metadata": {},
     "output_type": "execute_result"
    }
   ],
   "source": [
    "hp_gb = get_hyperparameters_metrics(cvModel_gb)\n",
    "print('Gradient Boosting Tree Hyperparameters')\n",
    "hp_gb"
   ]
  },
  {
   "cell_type": "markdown",
   "metadata": {},
   "source": [
    "Performance declines with the depth of the tree."
   ]
  },
  {
   "cell_type": "code",
   "execution_count": 30,
   "metadata": {},
   "outputs": [
    {
     "name": "stdout",
     "output_type": "stream",
     "text": [
      "Decision Tree Hyperparameters\n"
     ]
    },
    {
     "data": {
      "text/html": [
       "<div>\n",
       "<style scoped>\n",
       "    .dataframe tbody tr th:only-of-type {\n",
       "        vertical-align: middle;\n",
       "    }\n",
       "\n",
       "    .dataframe tbody tr th {\n",
       "        vertical-align: top;\n",
       "    }\n",
       "\n",
       "    .dataframe thead th {\n",
       "        text-align: right;\n",
       "    }\n",
       "</style>\n",
       "<table border=\"1\" class=\"dataframe\">\n",
       "  <thead>\n",
       "    <tr style=\"text-align: right;\">\n",
       "      <th></th>\n",
       "      <th>f1</th>\n",
       "      <th>impurity</th>\n",
       "      <th>maxDepth</th>\n",
       "    </tr>\n",
       "  </thead>\n",
       "  <tbody>\n",
       "    <tr>\n",
       "      <th>0</th>\n",
       "      <td>0.725999</td>\n",
       "      <td>entropy</td>\n",
       "      <td>2</td>\n",
       "    </tr>\n",
       "    <tr>\n",
       "      <th>1</th>\n",
       "      <td>0.717740</td>\n",
       "      <td>entropy</td>\n",
       "      <td>4</td>\n",
       "    </tr>\n",
       "    <tr>\n",
       "      <th>2</th>\n",
       "      <td>0.686851</td>\n",
       "      <td>entropy</td>\n",
       "      <td>8</td>\n",
       "    </tr>\n",
       "    <tr>\n",
       "      <th>3</th>\n",
       "      <td>0.722648</td>\n",
       "      <td>gini</td>\n",
       "      <td>2</td>\n",
       "    </tr>\n",
       "    <tr>\n",
       "      <th>4</th>\n",
       "      <td>0.702966</td>\n",
       "      <td>gini</td>\n",
       "      <td>4</td>\n",
       "    </tr>\n",
       "    <tr>\n",
       "      <th>5</th>\n",
       "      <td>0.650312</td>\n",
       "      <td>gini</td>\n",
       "      <td>8</td>\n",
       "    </tr>\n",
       "  </tbody>\n",
       "</table>\n",
       "</div>"
      ],
      "text/plain": [
       "         f1 impurity  maxDepth\n",
       "0  0.725999  entropy         2\n",
       "1  0.717740  entropy         4\n",
       "2  0.686851  entropy         8\n",
       "3  0.722648     gini         2\n",
       "4  0.702966     gini         4\n",
       "5  0.650312     gini         8"
      ]
     },
     "execution_count": 30,
     "metadata": {},
     "output_type": "execute_result"
    }
   ],
   "source": [
    "hp_dt = get_hyperparameters_metrics(cvModel_dt)\n",
    "print('Decision Tree Hyperparameters')\n",
    "hp_dt"
   ]
  },
  {
   "cell_type": "code",
   "execution_count": 31,
   "metadata": {},
   "outputs": [
    {
     "name": "stdout",
     "output_type": "stream",
     "text": [
      "Random Forest Hyperparameters\n"
     ]
    },
    {
     "data": {
      "text/html": [
       "<div>\n",
       "<style scoped>\n",
       "    .dataframe tbody tr th:only-of-type {\n",
       "        vertical-align: middle;\n",
       "    }\n",
       "\n",
       "    .dataframe tbody tr th {\n",
       "        vertical-align: top;\n",
       "    }\n",
       "\n",
       "    .dataframe thead th {\n",
       "        text-align: right;\n",
       "    }\n",
       "</style>\n",
       "<table border=\"1\" class=\"dataframe\">\n",
       "  <thead>\n",
       "    <tr style=\"text-align: right;\">\n",
       "      <th></th>\n",
       "      <th>f1</th>\n",
       "      <th>maxDepth</th>\n",
       "      <th>numTrees</th>\n",
       "    </tr>\n",
       "  </thead>\n",
       "  <tbody>\n",
       "    <tr>\n",
       "      <th>0</th>\n",
       "      <td>0.738076</td>\n",
       "      <td>5</td>\n",
       "      <td>5</td>\n",
       "    </tr>\n",
       "    <tr>\n",
       "      <th>1</th>\n",
       "      <td>0.708777</td>\n",
       "      <td>10</td>\n",
       "      <td>5</td>\n",
       "    </tr>\n",
       "    <tr>\n",
       "      <th>2</th>\n",
       "      <td>0.708777</td>\n",
       "      <td>20</td>\n",
       "      <td>5</td>\n",
       "    </tr>\n",
       "    <tr>\n",
       "      <th>3</th>\n",
       "      <td>0.702985</td>\n",
       "      <td>5</td>\n",
       "      <td>10</td>\n",
       "    </tr>\n",
       "    <tr>\n",
       "      <th>4</th>\n",
       "      <td>0.693619</td>\n",
       "      <td>10</td>\n",
       "      <td>10</td>\n",
       "    </tr>\n",
       "    <tr>\n",
       "      <th>5</th>\n",
       "      <td>0.693619</td>\n",
       "      <td>20</td>\n",
       "      <td>10</td>\n",
       "    </tr>\n",
       "  </tbody>\n",
       "</table>\n",
       "</div>"
      ],
      "text/plain": [
       "         f1  maxDepth  numTrees\n",
       "0  0.738076         5         5\n",
       "1  0.708777        10         5\n",
       "2  0.708777        20         5\n",
       "3  0.702985         5        10\n",
       "4  0.693619        10        10\n",
       "5  0.693619        20        10"
      ]
     },
     "execution_count": 31,
     "metadata": {},
     "output_type": "execute_result"
    }
   ],
   "source": [
    "hp_rf = get_hyperparameters_metrics(cvModel_rf)\n",
    "print('Random Forest Hyperparameters')\n",
    "hp_rf"
   ]
  },
  {
   "cell_type": "markdown",
   "metadata": {},
   "source": [
    "Lower maxDepth performs better than higer maxDepth indicating that there aren't many useful features in the dataset to divide the data on.\n",
    "\n",
    "Fewer trees performs better than more trees, which seems counter intuitive. Perhpas when the dataset is larger, more trees would result in better performance."
   ]
  },
  {
   "cell_type": "markdown",
   "metadata": {},
   "source": [
    "**Feature Importance**"
   ]
  },
  {
   "cell_type": "code",
   "execution_count": 32,
   "metadata": {},
   "outputs": [],
   "source": [
    "def plot_feature_importance(feature_importances, feature_columns, classifier_name):\n",
    "    x_values = list(range(len(feature_importances)))\n",
    "\n",
    "    plt.bar(x_values, feature_importances, orientation = 'vertical')\n",
    "    plt.xticks(x_values, feature_columns, rotation=90)\n",
    "    plt.ylabel('Feature Importances')\n",
    "    plt.xlabel('Feature')\n",
    "    plt.title('{} - Feature Importance'.format(classifier_name))"
   ]
  },
  {
   "cell_type": "code",
   "execution_count": 33,
   "metadata": {},
   "outputs": [
    {
     "data": {
      "image/png": "[encoded data removed]",
      "text/plain": [
       "<matplotlib.figure.Figure at 0x7fb7e03e7eb8>"
      ]
     },
     "metadata": {
      "needs_background": "light"
     },
     "output_type": "display_data"
    }
   ],
   "source": [
    "best_dt = DecisionTreeClassifier(labelCol=\"label\", featuresCol=\"scaled_features\", impurity='entropy', maxDepth=2)\n",
    "\n",
    "best_trained_dt = best_dt.fit(train_data)\n",
    "\n",
    "feature_importances = best_trained_dt.featureImportances\n",
    "\n",
    "classifier_name = 'Decision Tree'\n",
    "plot_feature_importance(feature_importances, feature_columns, classifier_name)"
   ]
  },
  {
   "cell_type": "markdown",
   "metadata": {},
   "source": [
    "My interpretation of this figure is that the Decision Tree only has two nodes based on 'lifetime' (how long the user has been on the platform and 'number_next_songs'. This would indicate that these two features are all that is needed by the classifier to predict churn."
   ]
  },
  {
   "cell_type": "code",
   "execution_count": 34,
   "metadata": {},
   "outputs": [
    {
     "data": {
      "image/png": "[encoded data removed]",
      "text/plain": [
       "<matplotlib.figure.Figure at 0x7fb81eeebc18>"
      ]
     },
     "metadata": {
      "needs_background": "light"
     },
     "output_type": "display_data"
    }
   ],
   "source": [
    "best_rf = RandomForestClassifier(labelCol=\"label\", featuresCol=\"scaled_features\", numTrees=10, maxDepth=5)\n",
    "\n",
    "best_trained_rf = best_rf.fit(train_data)\n",
    "\n",
    "feature_importances = best_trained_rf.featureImportances\n",
    "\n",
    "classifier_name = 'Random Forest'\n",
    "plot_feature_importance(feature_importances, feature_columns, classifier_name)"
   ]
  },
  {
   "cell_type": "code",
   "execution_count": 35,
   "metadata": {},
   "outputs": [
    {
     "data": {
      "image/png": "[encoded data removed]",
      "text/plain": [
       "<matplotlib.figure.Figure at 0x7fb81aa78ba8>"
      ]
     },
     "metadata": {
      "needs_background": "light"
     },
     "output_type": "display_data"
    }
   ],
   "source": [
    "best_gb = GBTClassifier(labelCol=\"label\", featuresCol=\"scaled_features\", maxIter=10, maxDepth=2)\n",
    "best_trained_gb = best_gb.fit(train_data)\n",
    "\n",
    "feature_importances = best_trained_gb.featureImportances\n",
    "\n",
    "classifier_name = 'Gradient Boosting Tree'\n",
    "plot_feature_importance(feature_importances, feature_columns, classifier_name)"
   ]
  },
  {
   "cell_type": "markdown",
   "metadata": {},
   "source": [
    "Both the Random Forest and Gradient Boosting Trees find most features useful in predicting churn.\n",
    "\n",
    "The time a user has been with the product is consistently the most important feature in the predicting churn."
   ]
  },
  {
   "cell_type": "markdown",
   "metadata": {},
   "source": [
    "**Justification**\n",
    "\n",
    "We tested the performance of three models in this analysis, Decision Trees, Random Forests and Gradient Boosting Trees. The second two are ensemble learning methods and are designed to adjust for the over-fitting of the decision tree."
   ]
  },
  {
   "cell_type": "markdown",
   "metadata": {},
   "source": [
    "**Improvements**\n",
    "\n",
    "An attempt was made to include a number of machine learning classifiers, however model exist and could perform better for this task. An extension of this analysis would be to try Logistic Regression or Support Vector Machines to predict churn.\n",
    "\n",
    "The hyperparamters used were selected as they are popular parameters that would seem to have the most improvement on the model, however other parameters can be used and more values could be tested when the models are run on larger computing resources with more data.\n",
    "\n",
    "Another technique to improve the performance of the model is to increase the number of folds within the cross-validation process. On a small data set, 3 folds is reasonable, however on larger data sets this could be increased. This is likely to improve the out-of-sample performance that seems to be an issue on this analysis."
   ]
  },
  {
   "cell_type": "markdown",
   "metadata": {},
   "source": [
    "# Final Steps\n",
    "Clean up your code, adding comments and renaming variables to make the code easier to read and maintain. Refer to the Spark Project Overview page and Data Scientist Capstone Project Rubric to make sure you are including all components of the capstone project and meet all expectations. Remember, this includes thorough documentation in a README file in a Github repository, as well as a web app or blog post."
   ]
  },
  {
   "cell_type": "code",
   "execution_count": null,
   "metadata": {},
   "outputs": [],
   "source": []
  }
 ],
 "metadata": {
  "kernelspec": {
   "display_name": "Python 3",
   "language": "python",
   "name": "python3"
  },
  "language_info": {
   "codemirror_mode": {
    "name": "ipython",
    "version": 3
   },
   "file_extension": ".py",
   "mimetype": "text/x-python",
   "name": "python",
   "nbconvert_exporter": "python",
   "pygments_lexer": "ipython3",
   "version": "3.6.3"
  }
 },
 "nbformat": 4,
 "nbformat_minor": 2
}
